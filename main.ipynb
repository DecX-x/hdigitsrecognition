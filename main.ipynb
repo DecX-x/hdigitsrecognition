{
 "cells": [
  {
   "cell_type": "code",
   "execution_count": 9,
   "metadata": {},
   "outputs": [],
   "source": [
    "import tensorflow as tf\n",
    "import numpy as np\n",
    "import matplotlib.pyplot as plt"
   ]
  },
  {
   "cell_type": "code",
   "execution_count": 10,
   "metadata": {},
   "outputs": [],
   "source": [
    "data = tf.keras.datasets.mnist\n",
    "\n",
    "(x_train, y_train), (x_test, y_test) = data.load_data()"
   ]
  },
  {
   "cell_type": "code",
   "execution_count": 11,
   "metadata": {},
   "outputs": [],
   "source": [
    "x_train = tf.keras.utils.normalize(x_train, axis=1)\n",
    "x_test = tf.keras.utils.normalize(x_test, axis=1)"
   ]
  },
  {
   "cell_type": "code",
   "execution_count": 16,
   "metadata": {},
   "outputs": [],
   "source": [
    "model = tf.keras.models.Sequential([\n",
    "    tf.keras.layers.Conv2D(64, (3, 3), input_shape=(28, 28, 1), activation='relu'),\n",
    "    tf.keras.layers.MaxPooling2D(pool_size=(2, 2)),\n",
    "    tf.keras.layers.Conv2D(64, (3, 3), activation='relu'),\n",
    "    tf.keras.layers.MaxPooling2D(pool_size=(2, 2)),\n",
    "    tf.keras.layers.Flatten(),\n",
    "    tf.keras.layers.Dense(128, activation='relu'),\n",
    "    tf.keras.layers.Dense(256, activation='relu'),\n",
    "    tf.keras.layers.Dense(10, activation='softmax')\n",
    "])\n",
    "\n"
   ]
  },
  {
   "cell_type": "code",
   "execution_count": 17,
   "metadata": {},
   "outputs": [
    {
     "name": "stdout",
     "output_type": "stream",
     "text": [
      "Model: \"sequential_1\"\n",
      "_________________________________________________________________\n",
      " Layer (type)                Output Shape              Param #   \n",
      "=================================================================\n",
      " conv2d_2 (Conv2D)           (None, 26, 26, 64)        640       \n",
      "                                                                 \n",
      " max_pooling2d_2 (MaxPooling  (None, 13, 13, 64)       0         \n",
      " 2D)                                                             \n",
      "                                                                 \n",
      " conv2d_3 (Conv2D)           (None, 11, 11, 64)        36928     \n",
      "                                                                 \n",
      " max_pooling2d_3 (MaxPooling  (None, 5, 5, 64)         0         \n",
      " 2D)                                                             \n",
      "                                                                 \n",
      " flatten_1 (Flatten)         (None, 1600)              0         \n",
      "                                                                 \n",
      " dense_3 (Dense)             (None, 128)               204928    \n",
      "                                                                 \n",
      " dense_4 (Dense)             (None, 256)               33024     \n",
      "                                                                 \n",
      " dense_5 (Dense)             (None, 10)                2570      \n",
      "                                                                 \n",
      "=================================================================\n",
      "Total params: 278,090\n",
      "Trainable params: 278,090\n",
      "Non-trainable params: 0\n",
      "_________________________________________________________________\n"
     ]
    }
   ],
   "source": [
    "model.summary()"
   ]
  },
  {
   "cell_type": "code",
   "execution_count": 18,
   "metadata": {},
   "outputs": [],
   "source": [
    "model.compile(optimizer='adam', loss='sparse_categorical_crossentropy', metrics=['accuracy'])"
   ]
  },
  {
   "cell_type": "code",
   "execution_count": 19,
   "metadata": {},
   "outputs": [
    {
     "name": "stdout",
     "output_type": "stream",
     "text": [
      "Epoch 1/30\n",
      "1875/1875 [==============================] - 11s 5ms/step - loss: 0.1529 - accuracy: 0.9524\n",
      "Epoch 2/30\n",
      "1875/1875 [==============================] - 10s 5ms/step - loss: 0.0499 - accuracy: 0.9844\n",
      "Epoch 3/30\n",
      "1875/1875 [==============================] - 9s 5ms/step - loss: 0.0338 - accuracy: 0.9894\n",
      "Epoch 4/30\n",
      "1875/1875 [==============================] - 9s 5ms/step - loss: 0.0265 - accuracy: 0.9916\n",
      "Epoch 5/30\n",
      "1875/1875 [==============================] - 9s 5ms/step - loss: 0.0190 - accuracy: 0.9938\n",
      "Epoch 6/30\n",
      "1875/1875 [==============================] - 9s 5ms/step - loss: 0.0162 - accuracy: 0.9950\n",
      "Epoch 7/30\n",
      "1875/1875 [==============================] - 9s 5ms/step - loss: 0.0136 - accuracy: 0.9956\n",
      "Epoch 8/30\n",
      "1875/1875 [==============================] - 10s 5ms/step - loss: 0.0100 - accuracy: 0.9967\n",
      "Epoch 9/30\n",
      "1875/1875 [==============================] - 9s 5ms/step - loss: 0.0094 - accuracy: 0.9971\n",
      "Epoch 10/30\n",
      "1875/1875 [==============================] - 9s 5ms/step - loss: 0.0101 - accuracy: 0.9968\n",
      "Epoch 11/30\n",
      "1875/1875 [==============================] - 9s 5ms/step - loss: 0.0069 - accuracy: 0.9977\n",
      "Epoch 12/30\n",
      "1875/1875 [==============================] - 9s 5ms/step - loss: 0.0077 - accuracy: 0.9977\n",
      "Epoch 13/30\n",
      "1875/1875 [==============================] - 9s 5ms/step - loss: 0.0068 - accuracy: 0.9979\n",
      "Epoch 14/30\n",
      "1875/1875 [==============================] - 9s 5ms/step - loss: 0.0068 - accuracy: 0.9981\n",
      "Epoch 15/30\n",
      "1875/1875 [==============================] - 6s 3ms/step - loss: 0.0069 - accuracy: 0.9977\n",
      "Epoch 16/30\n",
      "1875/1875 [==============================] - 5s 3ms/step - loss: 0.0075 - accuracy: 0.9978\n",
      "Epoch 17/30\n",
      "1875/1875 [==============================] - 5s 3ms/step - loss: 0.0051 - accuracy: 0.9985\n",
      "Epoch 18/30\n",
      "1875/1875 [==============================] - 5s 3ms/step - loss: 0.0059 - accuracy: 0.9984\n",
      "Epoch 19/30\n",
      "1875/1875 [==============================] - 5s 3ms/step - loss: 0.0046 - accuracy: 0.9987\n",
      "Epoch 20/30\n",
      "1875/1875 [==============================] - 5s 3ms/step - loss: 0.0061 - accuracy: 0.9981\n",
      "Epoch 21/30\n",
      "1875/1875 [==============================] - 5s 3ms/step - loss: 0.0063 - accuracy: 0.9982\n",
      "Epoch 22/30\n",
      "1875/1875 [==============================] - 5s 3ms/step - loss: 0.0036 - accuracy: 0.9990\n",
      "Epoch 23/30\n",
      "1875/1875 [==============================] - 5s 3ms/step - loss: 0.0059 - accuracy: 0.9984\n",
      "Epoch 24/30\n",
      "1875/1875 [==============================] - 5s 3ms/step - loss: 0.0059 - accuracy: 0.9985\n",
      "Epoch 25/30\n",
      "1875/1875 [==============================] - 5s 3ms/step - loss: 0.0031 - accuracy: 0.9991\n",
      "Epoch 26/30\n",
      "1875/1875 [==============================] - 5s 3ms/step - loss: 0.0055 - accuracy: 0.9987\n",
      "Epoch 27/30\n",
      "1875/1875 [==============================] - 5s 3ms/step - loss: 0.0042 - accuracy: 0.9990\n",
      "Epoch 28/30\n",
      "1875/1875 [==============================] - 5s 3ms/step - loss: 0.0049 - accuracy: 0.9987\n",
      "Epoch 29/30\n",
      "1875/1875 [==============================] - 5s 3ms/step - loss: 0.0049 - accuracy: 0.9987\n",
      "Epoch 30/30\n",
      "1875/1875 [==============================] - 5s 3ms/step - loss: 0.0029 - accuracy: 0.9993\n"
     ]
    },
    {
     "data": {
      "text/plain": [
       "<keras.callbacks.History at 0x2a99d9f4c40>"
      ]
     },
     "execution_count": 19,
     "metadata": {},
     "output_type": "execute_result"
    }
   ],
   "source": [
    "model.fit(x_train, y_train, epochs=30)"
   ]
  },
  {
   "cell_type": "code",
   "execution_count": 20,
   "metadata": {},
   "outputs": [
    {
     "name": "stdout",
     "output_type": "stream",
     "text": [
      "313/313 [==============================] - 1s 2ms/step - loss: 0.0872 - accuracy: 0.9893\n"
     ]
    },
    {
     "data": {
      "text/plain": [
       "[0.08716617524623871, 0.989300012588501]"
      ]
     },
     "execution_count": 20,
     "metadata": {},
     "output_type": "execute_result"
    }
   ],
   "source": [
    "model.evaluate(x_test, y_test)"
   ]
  },
  {
   "cell_type": "code",
   "execution_count": 21,
   "metadata": {},
   "outputs": [
    {
     "name": "stderr",
     "output_type": "stream",
     "text": [
      "WARNING:absl:Found untraced functions such as _jit_compiled_convolution_op, _jit_compiled_convolution_op while saving (showing 2 of 2). These functions will not be directly callable after loading.\n"
     ]
    },
    {
     "name": "stdout",
     "output_type": "stream",
     "text": [
      "INFO:tensorflow:Assets written to: mnist2.model\\assets\n"
     ]
    },
    {
     "name": "stderr",
     "output_type": "stream",
     "text": [
      "INFO:tensorflow:Assets written to: mnist2.model\\assets\n"
     ]
    }
   ],
   "source": [
    "model.save('mnist2.model')"
   ]
  },
  {
   "cell_type": "code",
   "execution_count": 22,
   "metadata": {},
   "outputs": [],
   "source": [
    "#load model\n",
    "model = tf.keras.models.load_model('mnist2.model')"
   ]
  },
  {
   "cell_type": "code",
   "execution_count": 24,
   "metadata": {},
   "outputs": [
    {
     "name": "stderr",
     "output_type": "stream",
     "text": [
      "C:\\Users\\AezersX\\AppData\\Local\\Temp\\ipykernel_23184\\1285878445.py:9: GradioDeprecationWarning: Usage of gradio.outputs is deprecated, and will not be supported in the future, please import your components from gradio.components\n",
      "  label = gr.outputs.Label(num_top_classes=3)\n",
      "C:\\Users\\AezersX\\AppData\\Local\\Temp\\ipykernel_23184\\1285878445.py:9: GradioUnusedKwargWarning: You have unused kwarg parameters in Label, please remove them: {'type': 'auto'}\n",
      "  label = gr.outputs.Label(num_top_classes=3)\n"
     ]
    },
    {
     "name": "stdout",
     "output_type": "stream",
     "text": [
      "Running on local URL:  http://127.0.0.1:7863\n",
      "\n",
      "To create a public link, set `share=True` in `launch()`.\n"
     ]
    },
    {
     "data": {
      "text/html": [
       "<div><iframe src=\"http://127.0.0.1:7863/\" width=\"100%\" height=\"500\" allow=\"autoplay; camera; microphone; clipboard-read; clipboard-write;\" frameborder=\"0\" allowfullscreen></iframe></div>"
      ],
      "text/plain": [
       "<IPython.core.display.HTML object>"
      ]
     },
     "metadata": {},
     "output_type": "display_data"
    },
    {
     "data": {
      "text/plain": []
     },
     "execution_count": 24,
     "metadata": {},
     "output_type": "execute_result"
    },
    {
     "name": "stdout",
     "output_type": "stream",
     "text": [
      "1/1 [==============================] - 0s 53ms/step\n"
     ]
    },
    {
     "name": "stderr",
     "output_type": "stream",
     "text": [
      "Traceback (most recent call last):\n",
      "  File \"c:\\Users\\AezersX\\anaconda3\\envs\\tensorflow\\lib\\site-packages\\gradio\\routes.py\", line 534, in predict\n",
      "    output = await route_utils.call_process_api(\n",
      "  File \"c:\\Users\\AezersX\\anaconda3\\envs\\tensorflow\\lib\\site-packages\\gradio\\route_utils.py\", line 226, in call_process_api\n",
      "    output = await app.get_blocks().process_api(\n",
      "  File \"c:\\Users\\AezersX\\anaconda3\\envs\\tensorflow\\lib\\site-packages\\gradio\\blocks.py\", line 1550, in process_api\n",
      "    result = await self.call_function(\n",
      "  File \"c:\\Users\\AezersX\\anaconda3\\envs\\tensorflow\\lib\\site-packages\\gradio\\blocks.py\", line 1185, in call_function\n",
      "    prediction = await anyio.to_thread.run_sync(\n",
      "  File \"c:\\Users\\AezersX\\anaconda3\\envs\\tensorflow\\lib\\site-packages\\anyio\\to_thread.py\", line 33, in run_sync\n",
      "    return await get_asynclib().run_sync_in_worker_thread(\n",
      "  File \"c:\\Users\\AezersX\\anaconda3\\envs\\tensorflow\\lib\\site-packages\\anyio\\_backends\\_asyncio.py\", line 877, in run_sync_in_worker_thread\n",
      "    return await future\n",
      "  File \"c:\\Users\\AezersX\\anaconda3\\envs\\tensorflow\\lib\\site-packages\\anyio\\_backends\\_asyncio.py\", line 807, in run\n",
      "    result = context.run(func, *args)\n",
      "  File \"c:\\Users\\AezersX\\anaconda3\\envs\\tensorflow\\lib\\site-packages\\gradio\\utils.py\", line 661, in wrapper\n",
      "    response = f(*args, **kwargs)\n",
      "  File \"C:\\Users\\AezersX\\AppData\\Local\\Temp\\ipykernel_23184\\1285878445.py\", line 4, in classify_image\n",
      "    img = img.reshape(1, 28, 28, 1)\n",
      "AttributeError: 'NoneType' object has no attribute 'reshape'\n"
     ]
    },
    {
     "name": "stdout",
     "output_type": "stream",
     "text": [
      "1/1 [==============================] - 0s 17ms/step\n"
     ]
    },
    {
     "name": "stderr",
     "output_type": "stream",
     "text": [
      "Traceback (most recent call last):\n",
      "  File \"c:\\Users\\AezersX\\anaconda3\\envs\\tensorflow\\lib\\site-packages\\gradio\\routes.py\", line 534, in predict\n",
      "    output = await route_utils.call_process_api(\n",
      "  File \"c:\\Users\\AezersX\\anaconda3\\envs\\tensorflow\\lib\\site-packages\\gradio\\route_utils.py\", line 226, in call_process_api\n",
      "    output = await app.get_blocks().process_api(\n",
      "  File \"c:\\Users\\AezersX\\anaconda3\\envs\\tensorflow\\lib\\site-packages\\gradio\\blocks.py\", line 1550, in process_api\n",
      "    result = await self.call_function(\n",
      "  File \"c:\\Users\\AezersX\\anaconda3\\envs\\tensorflow\\lib\\site-packages\\gradio\\blocks.py\", line 1185, in call_function\n",
      "    prediction = await anyio.to_thread.run_sync(\n",
      "  File \"c:\\Users\\AezersX\\anaconda3\\envs\\tensorflow\\lib\\site-packages\\anyio\\to_thread.py\", line 33, in run_sync\n",
      "    return await get_asynclib().run_sync_in_worker_thread(\n",
      "  File \"c:\\Users\\AezersX\\anaconda3\\envs\\tensorflow\\lib\\site-packages\\anyio\\_backends\\_asyncio.py\", line 877, in run_sync_in_worker_thread\n",
      "    return await future\n",
      "  File \"c:\\Users\\AezersX\\anaconda3\\envs\\tensorflow\\lib\\site-packages\\anyio\\_backends\\_asyncio.py\", line 807, in run\n",
      "    result = context.run(func, *args)\n",
      "  File \"c:\\Users\\AezersX\\anaconda3\\envs\\tensorflow\\lib\\site-packages\\gradio\\utils.py\", line 661, in wrapper\n",
      "    response = f(*args, **kwargs)\n",
      "  File \"C:\\Users\\AezersX\\AppData\\Local\\Temp\\ipykernel_23184\\1285878445.py\", line 4, in classify_image\n",
      "    img = img.reshape(1, 28, 28, 1)\n",
      "AttributeError: 'NoneType' object has no attribute 'reshape'\n"
     ]
    },
    {
     "name": "stdout",
     "output_type": "stream",
     "text": [
      "1/1 [==============================] - 0s 15ms/step\n"
     ]
    },
    {
     "name": "stderr",
     "output_type": "stream",
     "text": [
      "Traceback (most recent call last):\n",
      "  File \"c:\\Users\\AezersX\\anaconda3\\envs\\tensorflow\\lib\\site-packages\\gradio\\routes.py\", line 534, in predict\n",
      "    output = await route_utils.call_process_api(\n",
      "  File \"c:\\Users\\AezersX\\anaconda3\\envs\\tensorflow\\lib\\site-packages\\gradio\\route_utils.py\", line 226, in call_process_api\n",
      "    output = await app.get_blocks().process_api(\n",
      "  File \"c:\\Users\\AezersX\\anaconda3\\envs\\tensorflow\\lib\\site-packages\\gradio\\blocks.py\", line 1550, in process_api\n",
      "    result = await self.call_function(\n",
      "  File \"c:\\Users\\AezersX\\anaconda3\\envs\\tensorflow\\lib\\site-packages\\gradio\\blocks.py\", line 1185, in call_function\n",
      "    prediction = await anyio.to_thread.run_sync(\n",
      "  File \"c:\\Users\\AezersX\\anaconda3\\envs\\tensorflow\\lib\\site-packages\\anyio\\to_thread.py\", line 33, in run_sync\n",
      "    return await get_asynclib().run_sync_in_worker_thread(\n",
      "  File \"c:\\Users\\AezersX\\anaconda3\\envs\\tensorflow\\lib\\site-packages\\anyio\\_backends\\_asyncio.py\", line 877, in run_sync_in_worker_thread\n",
      "    return await future\n",
      "  File \"c:\\Users\\AezersX\\anaconda3\\envs\\tensorflow\\lib\\site-packages\\anyio\\_backends\\_asyncio.py\", line 807, in run\n",
      "    result = context.run(func, *args)\n",
      "  File \"c:\\Users\\AezersX\\anaconda3\\envs\\tensorflow\\lib\\site-packages\\gradio\\utils.py\", line 661, in wrapper\n",
      "    response = f(*args, **kwargs)\n",
      "  File \"C:\\Users\\AezersX\\AppData\\Local\\Temp\\ipykernel_23184\\1285878445.py\", line 4, in classify_image\n",
      "    img = img.reshape(1, 28, 28, 1)\n",
      "AttributeError: 'NoneType' object has no attribute 'reshape'\n"
     ]
    },
    {
     "name": "stdout",
     "output_type": "stream",
     "text": [
      "1/1 [==============================] - 0s 15ms/step\n"
     ]
    },
    {
     "name": "stderr",
     "output_type": "stream",
     "text": [
      "Traceback (most recent call last):\n",
      "  File \"c:\\Users\\AezersX\\anaconda3\\envs\\tensorflow\\lib\\site-packages\\gradio\\routes.py\", line 534, in predict\n",
      "    output = await route_utils.call_process_api(\n",
      "  File \"c:\\Users\\AezersX\\anaconda3\\envs\\tensorflow\\lib\\site-packages\\gradio\\route_utils.py\", line 226, in call_process_api\n",
      "    output = await app.get_blocks().process_api(\n",
      "  File \"c:\\Users\\AezersX\\anaconda3\\envs\\tensorflow\\lib\\site-packages\\gradio\\blocks.py\", line 1550, in process_api\n",
      "    result = await self.call_function(\n",
      "  File \"c:\\Users\\AezersX\\anaconda3\\envs\\tensorflow\\lib\\site-packages\\gradio\\blocks.py\", line 1185, in call_function\n",
      "    prediction = await anyio.to_thread.run_sync(\n",
      "  File \"c:\\Users\\AezersX\\anaconda3\\envs\\tensorflow\\lib\\site-packages\\anyio\\to_thread.py\", line 33, in run_sync\n",
      "    return await get_asynclib().run_sync_in_worker_thread(\n",
      "  File \"c:\\Users\\AezersX\\anaconda3\\envs\\tensorflow\\lib\\site-packages\\anyio\\_backends\\_asyncio.py\", line 877, in run_sync_in_worker_thread\n",
      "    return await future\n",
      "  File \"c:\\Users\\AezersX\\anaconda3\\envs\\tensorflow\\lib\\site-packages\\anyio\\_backends\\_asyncio.py\", line 807, in run\n",
      "    result = context.run(func, *args)\n",
      "  File \"c:\\Users\\AezersX\\anaconda3\\envs\\tensorflow\\lib\\site-packages\\gradio\\utils.py\", line 661, in wrapper\n",
      "    response = f(*args, **kwargs)\n",
      "  File \"C:\\Users\\AezersX\\AppData\\Local\\Temp\\ipykernel_23184\\1285878445.py\", line 4, in classify_image\n",
      "    img = img.reshape(1, 28, 28, 1)\n",
      "AttributeError: 'NoneType' object has no attribute 'reshape'\n"
     ]
    },
    {
     "name": "stdout",
     "output_type": "stream",
     "text": [
      "1/1 [==============================] - 0s 15ms/step\n"
     ]
    },
    {
     "name": "stderr",
     "output_type": "stream",
     "text": [
      "Traceback (most recent call last):\n",
      "  File \"c:\\Users\\AezersX\\anaconda3\\envs\\tensorflow\\lib\\site-packages\\gradio\\routes.py\", line 534, in predict\n",
      "    output = await route_utils.call_process_api(\n",
      "  File \"c:\\Users\\AezersX\\anaconda3\\envs\\tensorflow\\lib\\site-packages\\gradio\\route_utils.py\", line 226, in call_process_api\n",
      "    output = await app.get_blocks().process_api(\n",
      "  File \"c:\\Users\\AezersX\\anaconda3\\envs\\tensorflow\\lib\\site-packages\\gradio\\blocks.py\", line 1550, in process_api\n",
      "    result = await self.call_function(\n",
      "  File \"c:\\Users\\AezersX\\anaconda3\\envs\\tensorflow\\lib\\site-packages\\gradio\\blocks.py\", line 1185, in call_function\n",
      "    prediction = await anyio.to_thread.run_sync(\n",
      "  File \"c:\\Users\\AezersX\\anaconda3\\envs\\tensorflow\\lib\\site-packages\\anyio\\to_thread.py\", line 33, in run_sync\n",
      "    return await get_asynclib().run_sync_in_worker_thread(\n",
      "  File \"c:\\Users\\AezersX\\anaconda3\\envs\\tensorflow\\lib\\site-packages\\anyio\\_backends\\_asyncio.py\", line 877, in run_sync_in_worker_thread\n",
      "    return await future\n",
      "  File \"c:\\Users\\AezersX\\anaconda3\\envs\\tensorflow\\lib\\site-packages\\anyio\\_backends\\_asyncio.py\", line 807, in run\n",
      "    result = context.run(func, *args)\n",
      "  File \"c:\\Users\\AezersX\\anaconda3\\envs\\tensorflow\\lib\\site-packages\\gradio\\utils.py\", line 661, in wrapper\n",
      "    response = f(*args, **kwargs)\n",
      "  File \"C:\\Users\\AezersX\\AppData\\Local\\Temp\\ipykernel_23184\\1285878445.py\", line 4, in classify_image\n",
      "    img = img.reshape(1, 28, 28, 1)\n",
      "AttributeError: 'NoneType' object has no attribute 'reshape'\n"
     ]
    },
    {
     "name": "stdout",
     "output_type": "stream",
     "text": [
      "1/1 [==============================] - 0s 15ms/step\n"
     ]
    },
    {
     "name": "stderr",
     "output_type": "stream",
     "text": [
      "Traceback (most recent call last):\n",
      "  File \"c:\\Users\\AezersX\\anaconda3\\envs\\tensorflow\\lib\\site-packages\\gradio\\routes.py\", line 534, in predict\n",
      "    output = await route_utils.call_process_api(\n",
      "  File \"c:\\Users\\AezersX\\anaconda3\\envs\\tensorflow\\lib\\site-packages\\gradio\\route_utils.py\", line 226, in call_process_api\n",
      "    output = await app.get_blocks().process_api(\n",
      "  File \"c:\\Users\\AezersX\\anaconda3\\envs\\tensorflow\\lib\\site-packages\\gradio\\blocks.py\", line 1550, in process_api\n",
      "    result = await self.call_function(\n",
      "  File \"c:\\Users\\AezersX\\anaconda3\\envs\\tensorflow\\lib\\site-packages\\gradio\\blocks.py\", line 1185, in call_function\n",
      "    prediction = await anyio.to_thread.run_sync(\n",
      "  File \"c:\\Users\\AezersX\\anaconda3\\envs\\tensorflow\\lib\\site-packages\\anyio\\to_thread.py\", line 33, in run_sync\n",
      "    return await get_asynclib().run_sync_in_worker_thread(\n",
      "  File \"c:\\Users\\AezersX\\anaconda3\\envs\\tensorflow\\lib\\site-packages\\anyio\\_backends\\_asyncio.py\", line 877, in run_sync_in_worker_thread\n",
      "    return await future\n",
      "  File \"c:\\Users\\AezersX\\anaconda3\\envs\\tensorflow\\lib\\site-packages\\anyio\\_backends\\_asyncio.py\", line 807, in run\n",
      "    result = context.run(func, *args)\n",
      "  File \"c:\\Users\\AezersX\\anaconda3\\envs\\tensorflow\\lib\\site-packages\\gradio\\utils.py\", line 661, in wrapper\n",
      "    response = f(*args, **kwargs)\n",
      "  File \"C:\\Users\\AezersX\\AppData\\Local\\Temp\\ipykernel_23184\\1285878445.py\", line 4, in classify_image\n",
      "    img = img.reshape(1, 28, 28, 1)\n",
      "AttributeError: 'NoneType' object has no attribute 'reshape'\n"
     ]
    },
    {
     "name": "stdout",
     "output_type": "stream",
     "text": [
      "1/1 [==============================] - 0s 15ms/step\n"
     ]
    },
    {
     "name": "stderr",
     "output_type": "stream",
     "text": [
      "Traceback (most recent call last):\n",
      "  File \"c:\\Users\\AezersX\\anaconda3\\envs\\tensorflow\\lib\\site-packages\\gradio\\routes.py\", line 534, in predict\n",
      "    output = await route_utils.call_process_api(\n",
      "  File \"c:\\Users\\AezersX\\anaconda3\\envs\\tensorflow\\lib\\site-packages\\gradio\\route_utils.py\", line 226, in call_process_api\n",
      "    output = await app.get_blocks().process_api(\n",
      "  File \"c:\\Users\\AezersX\\anaconda3\\envs\\tensorflow\\lib\\site-packages\\gradio\\blocks.py\", line 1550, in process_api\n",
      "    result = await self.call_function(\n",
      "  File \"c:\\Users\\AezersX\\anaconda3\\envs\\tensorflow\\lib\\site-packages\\gradio\\blocks.py\", line 1185, in call_function\n",
      "    prediction = await anyio.to_thread.run_sync(\n",
      "  File \"c:\\Users\\AezersX\\anaconda3\\envs\\tensorflow\\lib\\site-packages\\anyio\\to_thread.py\", line 33, in run_sync\n",
      "    return await get_asynclib().run_sync_in_worker_thread(\n",
      "  File \"c:\\Users\\AezersX\\anaconda3\\envs\\tensorflow\\lib\\site-packages\\anyio\\_backends\\_asyncio.py\", line 877, in run_sync_in_worker_thread\n",
      "    return await future\n",
      "  File \"c:\\Users\\AezersX\\anaconda3\\envs\\tensorflow\\lib\\site-packages\\anyio\\_backends\\_asyncio.py\", line 807, in run\n",
      "    result = context.run(func, *args)\n",
      "  File \"c:\\Users\\AezersX\\anaconda3\\envs\\tensorflow\\lib\\site-packages\\gradio\\utils.py\", line 661, in wrapper\n",
      "    response = f(*args, **kwargs)\n",
      "  File \"C:\\Users\\AezersX\\AppData\\Local\\Temp\\ipykernel_23184\\1285878445.py\", line 4, in classify_image\n",
      "    img = img.reshape(1, 28, 28, 1)\n",
      "AttributeError: 'NoneType' object has no attribute 'reshape'\n"
     ]
    },
    {
     "name": "stdout",
     "output_type": "stream",
     "text": [
      "1/1 [==============================] - 0s 16ms/step\n"
     ]
    },
    {
     "name": "stderr",
     "output_type": "stream",
     "text": [
      "Traceback (most recent call last):\n",
      "  File \"c:\\Users\\AezersX\\anaconda3\\envs\\tensorflow\\lib\\site-packages\\gradio\\routes.py\", line 534, in predict\n",
      "    output = await route_utils.call_process_api(\n",
      "  File \"c:\\Users\\AezersX\\anaconda3\\envs\\tensorflow\\lib\\site-packages\\gradio\\route_utils.py\", line 226, in call_process_api\n",
      "    output = await app.get_blocks().process_api(\n",
      "  File \"c:\\Users\\AezersX\\anaconda3\\envs\\tensorflow\\lib\\site-packages\\gradio\\blocks.py\", line 1550, in process_api\n",
      "    result = await self.call_function(\n",
      "  File \"c:\\Users\\AezersX\\anaconda3\\envs\\tensorflow\\lib\\site-packages\\gradio\\blocks.py\", line 1185, in call_function\n",
      "    prediction = await anyio.to_thread.run_sync(\n",
      "  File \"c:\\Users\\AezersX\\anaconda3\\envs\\tensorflow\\lib\\site-packages\\anyio\\to_thread.py\", line 33, in run_sync\n",
      "    return await get_asynclib().run_sync_in_worker_thread(\n",
      "  File \"c:\\Users\\AezersX\\anaconda3\\envs\\tensorflow\\lib\\site-packages\\anyio\\_backends\\_asyncio.py\", line 877, in run_sync_in_worker_thread\n",
      "    return await future\n",
      "  File \"c:\\Users\\AezersX\\anaconda3\\envs\\tensorflow\\lib\\site-packages\\anyio\\_backends\\_asyncio.py\", line 807, in run\n",
      "    result = context.run(func, *args)\n",
      "  File \"c:\\Users\\AezersX\\anaconda3\\envs\\tensorflow\\lib\\site-packages\\gradio\\utils.py\", line 661, in wrapper\n",
      "    response = f(*args, **kwargs)\n",
      "  File \"C:\\Users\\AezersX\\AppData\\Local\\Temp\\ipykernel_23184\\1285878445.py\", line 4, in classify_image\n",
      "    img = img.reshape(1, 28, 28, 1)\n",
      "AttributeError: 'NoneType' object has no attribute 'reshape'\n"
     ]
    },
    {
     "name": "stdout",
     "output_type": "stream",
     "text": [
      "1/1 [==============================] - 0s 16ms/step\n",
      "1/1 [==============================] - 0s 15ms/step\n"
     ]
    },
    {
     "name": "stderr",
     "output_type": "stream",
     "text": [
      "Traceback (most recent call last):\n",
      "  File \"c:\\Users\\AezersX\\anaconda3\\envs\\tensorflow\\lib\\site-packages\\gradio\\routes.py\", line 534, in predict\n",
      "    output = await route_utils.call_process_api(\n",
      "  File \"c:\\Users\\AezersX\\anaconda3\\envs\\tensorflow\\lib\\site-packages\\gradio\\route_utils.py\", line 226, in call_process_api\n",
      "    output = await app.get_blocks().process_api(\n",
      "  File \"c:\\Users\\AezersX\\anaconda3\\envs\\tensorflow\\lib\\site-packages\\gradio\\blocks.py\", line 1550, in process_api\n",
      "    result = await self.call_function(\n",
      "  File \"c:\\Users\\AezersX\\anaconda3\\envs\\tensorflow\\lib\\site-packages\\gradio\\blocks.py\", line 1185, in call_function\n",
      "    prediction = await anyio.to_thread.run_sync(\n",
      "  File \"c:\\Users\\AezersX\\anaconda3\\envs\\tensorflow\\lib\\site-packages\\anyio\\to_thread.py\", line 33, in run_sync\n",
      "    return await get_asynclib().run_sync_in_worker_thread(\n",
      "  File \"c:\\Users\\AezersX\\anaconda3\\envs\\tensorflow\\lib\\site-packages\\anyio\\_backends\\_asyncio.py\", line 877, in run_sync_in_worker_thread\n",
      "    return await future\n",
      "  File \"c:\\Users\\AezersX\\anaconda3\\envs\\tensorflow\\lib\\site-packages\\anyio\\_backends\\_asyncio.py\", line 807, in run\n",
      "    result = context.run(func, *args)\n",
      "  File \"c:\\Users\\AezersX\\anaconda3\\envs\\tensorflow\\lib\\site-packages\\gradio\\utils.py\", line 661, in wrapper\n",
      "    response = f(*args, **kwargs)\n",
      "  File \"C:\\Users\\AezersX\\AppData\\Local\\Temp\\ipykernel_23184\\1285878445.py\", line 4, in classify_image\n",
      "    img = img.reshape(1, 28, 28, 1)\n",
      "AttributeError: 'NoneType' object has no attribute 'reshape'\n"
     ]
    },
    {
     "name": "stdout",
     "output_type": "stream",
     "text": [
      "1/1 [==============================] - 0s 15ms/step\n",
      "1/1 [==============================] - 0s 15ms/step\n"
     ]
    },
    {
     "name": "stderr",
     "output_type": "stream",
     "text": [
      "Traceback (most recent call last):\n",
      "  File \"c:\\Users\\AezersX\\anaconda3\\envs\\tensorflow\\lib\\site-packages\\gradio\\routes.py\", line 534, in predict\n",
      "    output = await route_utils.call_process_api(\n",
      "  File \"c:\\Users\\AezersX\\anaconda3\\envs\\tensorflow\\lib\\site-packages\\gradio\\route_utils.py\", line 226, in call_process_api\n",
      "    output = await app.get_blocks().process_api(\n",
      "  File \"c:\\Users\\AezersX\\anaconda3\\envs\\tensorflow\\lib\\site-packages\\gradio\\blocks.py\", line 1550, in process_api\n",
      "    result = await self.call_function(\n",
      "  File \"c:\\Users\\AezersX\\anaconda3\\envs\\tensorflow\\lib\\site-packages\\gradio\\blocks.py\", line 1185, in call_function\n",
      "    prediction = await anyio.to_thread.run_sync(\n",
      "  File \"c:\\Users\\AezersX\\anaconda3\\envs\\tensorflow\\lib\\site-packages\\anyio\\to_thread.py\", line 33, in run_sync\n",
      "    return await get_asynclib().run_sync_in_worker_thread(\n",
      "  File \"c:\\Users\\AezersX\\anaconda3\\envs\\tensorflow\\lib\\site-packages\\anyio\\_backends\\_asyncio.py\", line 877, in run_sync_in_worker_thread\n",
      "    return await future\n",
      "  File \"c:\\Users\\AezersX\\anaconda3\\envs\\tensorflow\\lib\\site-packages\\anyio\\_backends\\_asyncio.py\", line 807, in run\n",
      "    result = context.run(func, *args)\n",
      "  File \"c:\\Users\\AezersX\\anaconda3\\envs\\tensorflow\\lib\\site-packages\\gradio\\utils.py\", line 661, in wrapper\n",
      "    response = f(*args, **kwargs)\n",
      "  File \"C:\\Users\\AezersX\\AppData\\Local\\Temp\\ipykernel_23184\\1285878445.py\", line 4, in classify_image\n",
      "    img = img.reshape(1, 28, 28, 1)\n",
      "AttributeError: 'NoneType' object has no attribute 'reshape'\n"
     ]
    },
    {
     "name": "stdout",
     "output_type": "stream",
     "text": [
      "1/1 [==============================] - 0s 15ms/step\n"
     ]
    },
    {
     "name": "stderr",
     "output_type": "stream",
     "text": [
      "Traceback (most recent call last):\n",
      "  File \"c:\\Users\\AezersX\\anaconda3\\envs\\tensorflow\\lib\\site-packages\\gradio\\routes.py\", line 534, in predict\n",
      "    output = await route_utils.call_process_api(\n",
      "  File \"c:\\Users\\AezersX\\anaconda3\\envs\\tensorflow\\lib\\site-packages\\gradio\\route_utils.py\", line 226, in call_process_api\n",
      "    output = await app.get_blocks().process_api(\n",
      "  File \"c:\\Users\\AezersX\\anaconda3\\envs\\tensorflow\\lib\\site-packages\\gradio\\blocks.py\", line 1550, in process_api\n",
      "    result = await self.call_function(\n",
      "  File \"c:\\Users\\AezersX\\anaconda3\\envs\\tensorflow\\lib\\site-packages\\gradio\\blocks.py\", line 1185, in call_function\n",
      "    prediction = await anyio.to_thread.run_sync(\n",
      "  File \"c:\\Users\\AezersX\\anaconda3\\envs\\tensorflow\\lib\\site-packages\\anyio\\to_thread.py\", line 33, in run_sync\n",
      "    return await get_asynclib().run_sync_in_worker_thread(\n",
      "  File \"c:\\Users\\AezersX\\anaconda3\\envs\\tensorflow\\lib\\site-packages\\anyio\\_backends\\_asyncio.py\", line 877, in run_sync_in_worker_thread\n",
      "    return await future\n",
      "  File \"c:\\Users\\AezersX\\anaconda3\\envs\\tensorflow\\lib\\site-packages\\anyio\\_backends\\_asyncio.py\", line 807, in run\n",
      "    result = context.run(func, *args)\n",
      "  File \"c:\\Users\\AezersX\\anaconda3\\envs\\tensorflow\\lib\\site-packages\\gradio\\utils.py\", line 661, in wrapper\n",
      "    response = f(*args, **kwargs)\n",
      "  File \"C:\\Users\\AezersX\\AppData\\Local\\Temp\\ipykernel_23184\\1285878445.py\", line 4, in classify_image\n",
      "    img = img.reshape(1, 28, 28, 1)\n",
      "AttributeError: 'NoneType' object has no attribute 'reshape'\n"
     ]
    },
    {
     "name": "stdout",
     "output_type": "stream",
     "text": [
      "1/1 [==============================] - 0s 15ms/step\n"
     ]
    },
    {
     "name": "stderr",
     "output_type": "stream",
     "text": [
      "Traceback (most recent call last):\n",
      "  File \"c:\\Users\\AezersX\\anaconda3\\envs\\tensorflow\\lib\\site-packages\\gradio\\routes.py\", line 534, in predict\n",
      "    output = await route_utils.call_process_api(\n",
      "  File \"c:\\Users\\AezersX\\anaconda3\\envs\\tensorflow\\lib\\site-packages\\gradio\\route_utils.py\", line 226, in call_process_api\n",
      "    output = await app.get_blocks().process_api(\n",
      "  File \"c:\\Users\\AezersX\\anaconda3\\envs\\tensorflow\\lib\\site-packages\\gradio\\blocks.py\", line 1550, in process_api\n",
      "    result = await self.call_function(\n",
      "  File \"c:\\Users\\AezersX\\anaconda3\\envs\\tensorflow\\lib\\site-packages\\gradio\\blocks.py\", line 1185, in call_function\n",
      "    prediction = await anyio.to_thread.run_sync(\n",
      "  File \"c:\\Users\\AezersX\\anaconda3\\envs\\tensorflow\\lib\\site-packages\\anyio\\to_thread.py\", line 33, in run_sync\n",
      "    return await get_asynclib().run_sync_in_worker_thread(\n",
      "  File \"c:\\Users\\AezersX\\anaconda3\\envs\\tensorflow\\lib\\site-packages\\anyio\\_backends\\_asyncio.py\", line 877, in run_sync_in_worker_thread\n",
      "    return await future\n",
      "  File \"c:\\Users\\AezersX\\anaconda3\\envs\\tensorflow\\lib\\site-packages\\anyio\\_backends\\_asyncio.py\", line 807, in run\n",
      "    result = context.run(func, *args)\n",
      "  File \"c:\\Users\\AezersX\\anaconda3\\envs\\tensorflow\\lib\\site-packages\\gradio\\utils.py\", line 661, in wrapper\n",
      "    response = f(*args, **kwargs)\n",
      "  File \"C:\\Users\\AezersX\\AppData\\Local\\Temp\\ipykernel_23184\\1285878445.py\", line 4, in classify_image\n",
      "    img = img.reshape(1, 28, 28, 1)\n",
      "AttributeError: 'NoneType' object has no attribute 'reshape'\n"
     ]
    },
    {
     "name": "stdout",
     "output_type": "stream",
     "text": [
      "1/1 [==============================] - 0s 15ms/step\n"
     ]
    },
    {
     "name": "stderr",
     "output_type": "stream",
     "text": [
      "Traceback (most recent call last):\n",
      "  File \"c:\\Users\\AezersX\\anaconda3\\envs\\tensorflow\\lib\\site-packages\\gradio\\routes.py\", line 534, in predict\n",
      "    output = await route_utils.call_process_api(\n",
      "  File \"c:\\Users\\AezersX\\anaconda3\\envs\\tensorflow\\lib\\site-packages\\gradio\\route_utils.py\", line 226, in call_process_api\n",
      "    output = await app.get_blocks().process_api(\n",
      "  File \"c:\\Users\\AezersX\\anaconda3\\envs\\tensorflow\\lib\\site-packages\\gradio\\blocks.py\", line 1550, in process_api\n",
      "    result = await self.call_function(\n",
      "  File \"c:\\Users\\AezersX\\anaconda3\\envs\\tensorflow\\lib\\site-packages\\gradio\\blocks.py\", line 1185, in call_function\n",
      "    prediction = await anyio.to_thread.run_sync(\n",
      "  File \"c:\\Users\\AezersX\\anaconda3\\envs\\tensorflow\\lib\\site-packages\\anyio\\to_thread.py\", line 33, in run_sync\n",
      "    return await get_asynclib().run_sync_in_worker_thread(\n",
      "  File \"c:\\Users\\AezersX\\anaconda3\\envs\\tensorflow\\lib\\site-packages\\anyio\\_backends\\_asyncio.py\", line 877, in run_sync_in_worker_thread\n",
      "    return await future\n",
      "  File \"c:\\Users\\AezersX\\anaconda3\\envs\\tensorflow\\lib\\site-packages\\anyio\\_backends\\_asyncio.py\", line 807, in run\n",
      "    result = context.run(func, *args)\n",
      "  File \"c:\\Users\\AezersX\\anaconda3\\envs\\tensorflow\\lib\\site-packages\\gradio\\utils.py\", line 661, in wrapper\n",
      "    response = f(*args, **kwargs)\n",
      "  File \"C:\\Users\\AezersX\\AppData\\Local\\Temp\\ipykernel_23184\\1285878445.py\", line 4, in classify_image\n",
      "    img = img.reshape(1, 28, 28, 1)\n",
      "AttributeError: 'NoneType' object has no attribute 'reshape'\n"
     ]
    },
    {
     "name": "stdout",
     "output_type": "stream",
     "text": [
      "1/1 [==============================] - 0s 16ms/step\n"
     ]
    },
    {
     "name": "stderr",
     "output_type": "stream",
     "text": [
      "Traceback (most recent call last):\n",
      "  File \"c:\\Users\\AezersX\\anaconda3\\envs\\tensorflow\\lib\\site-packages\\gradio\\routes.py\", line 534, in predict\n",
      "    output = await route_utils.call_process_api(\n",
      "  File \"c:\\Users\\AezersX\\anaconda3\\envs\\tensorflow\\lib\\site-packages\\gradio\\route_utils.py\", line 226, in call_process_api\n",
      "    output = await app.get_blocks().process_api(\n",
      "  File \"c:\\Users\\AezersX\\anaconda3\\envs\\tensorflow\\lib\\site-packages\\gradio\\blocks.py\", line 1550, in process_api\n",
      "    result = await self.call_function(\n",
      "  File \"c:\\Users\\AezersX\\anaconda3\\envs\\tensorflow\\lib\\site-packages\\gradio\\blocks.py\", line 1185, in call_function\n",
      "    prediction = await anyio.to_thread.run_sync(\n",
      "  File \"c:\\Users\\AezersX\\anaconda3\\envs\\tensorflow\\lib\\site-packages\\anyio\\to_thread.py\", line 33, in run_sync\n",
      "    return await get_asynclib().run_sync_in_worker_thread(\n",
      "  File \"c:\\Users\\AezersX\\anaconda3\\envs\\tensorflow\\lib\\site-packages\\anyio\\_backends\\_asyncio.py\", line 877, in run_sync_in_worker_thread\n",
      "    return await future\n",
      "  File \"c:\\Users\\AezersX\\anaconda3\\envs\\tensorflow\\lib\\site-packages\\anyio\\_backends\\_asyncio.py\", line 807, in run\n",
      "    result = context.run(func, *args)\n",
      "  File \"c:\\Users\\AezersX\\anaconda3\\envs\\tensorflow\\lib\\site-packages\\gradio\\utils.py\", line 661, in wrapper\n",
      "    response = f(*args, **kwargs)\n",
      "  File \"C:\\Users\\AezersX\\AppData\\Local\\Temp\\ipykernel_23184\\1285878445.py\", line 4, in classify_image\n",
      "    img = img.reshape(1, 28, 28, 1)\n",
      "AttributeError: 'NoneType' object has no attribute 'reshape'\n"
     ]
    },
    {
     "name": "stdout",
     "output_type": "stream",
     "text": [
      "1/1 [==============================] - 0s 15ms/step\n"
     ]
    },
    {
     "name": "stderr",
     "output_type": "stream",
     "text": [
      "Traceback (most recent call last):\n",
      "  File \"c:\\Users\\AezersX\\anaconda3\\envs\\tensorflow\\lib\\site-packages\\gradio\\routes.py\", line 534, in predict\n",
      "    output = await route_utils.call_process_api(\n",
      "  File \"c:\\Users\\AezersX\\anaconda3\\envs\\tensorflow\\lib\\site-packages\\gradio\\route_utils.py\", line 226, in call_process_api\n",
      "    output = await app.get_blocks().process_api(\n",
      "  File \"c:\\Users\\AezersX\\anaconda3\\envs\\tensorflow\\lib\\site-packages\\gradio\\blocks.py\", line 1550, in process_api\n",
      "    result = await self.call_function(\n",
      "  File \"c:\\Users\\AezersX\\anaconda3\\envs\\tensorflow\\lib\\site-packages\\gradio\\blocks.py\", line 1185, in call_function\n",
      "    prediction = await anyio.to_thread.run_sync(\n",
      "  File \"c:\\Users\\AezersX\\anaconda3\\envs\\tensorflow\\lib\\site-packages\\anyio\\to_thread.py\", line 33, in run_sync\n",
      "    return await get_asynclib().run_sync_in_worker_thread(\n",
      "  File \"c:\\Users\\AezersX\\anaconda3\\envs\\tensorflow\\lib\\site-packages\\anyio\\_backends\\_asyncio.py\", line 877, in run_sync_in_worker_thread\n",
      "    return await future\n",
      "  File \"c:\\Users\\AezersX\\anaconda3\\envs\\tensorflow\\lib\\site-packages\\anyio\\_backends\\_asyncio.py\", line 807, in run\n",
      "    result = context.run(func, *args)\n",
      "  File \"c:\\Users\\AezersX\\anaconda3\\envs\\tensorflow\\lib\\site-packages\\gradio\\utils.py\", line 661, in wrapper\n",
      "    response = f(*args, **kwargs)\n",
      "  File \"C:\\Users\\AezersX\\AppData\\Local\\Temp\\ipykernel_23184\\1285878445.py\", line 4, in classify_image\n",
      "    img = img.reshape(1, 28, 28, 1)\n",
      "AttributeError: 'NoneType' object has no attribute 'reshape'\n"
     ]
    },
    {
     "name": "stdout",
     "output_type": "stream",
     "text": [
      "1/1 [==============================] - 0s 16ms/step\n"
     ]
    },
    {
     "name": "stderr",
     "output_type": "stream",
     "text": [
      "Traceback (most recent call last):\n",
      "  File \"c:\\Users\\AezersX\\anaconda3\\envs\\tensorflow\\lib\\site-packages\\gradio\\routes.py\", line 534, in predict\n",
      "    output = await route_utils.call_process_api(\n",
      "  File \"c:\\Users\\AezersX\\anaconda3\\envs\\tensorflow\\lib\\site-packages\\gradio\\route_utils.py\", line 226, in call_process_api\n",
      "    output = await app.get_blocks().process_api(\n",
      "  File \"c:\\Users\\AezersX\\anaconda3\\envs\\tensorflow\\lib\\site-packages\\gradio\\blocks.py\", line 1550, in process_api\n",
      "    result = await self.call_function(\n",
      "  File \"c:\\Users\\AezersX\\anaconda3\\envs\\tensorflow\\lib\\site-packages\\gradio\\blocks.py\", line 1185, in call_function\n",
      "    prediction = await anyio.to_thread.run_sync(\n",
      "  File \"c:\\Users\\AezersX\\anaconda3\\envs\\tensorflow\\lib\\site-packages\\anyio\\to_thread.py\", line 33, in run_sync\n",
      "    return await get_asynclib().run_sync_in_worker_thread(\n",
      "  File \"c:\\Users\\AezersX\\anaconda3\\envs\\tensorflow\\lib\\site-packages\\anyio\\_backends\\_asyncio.py\", line 877, in run_sync_in_worker_thread\n",
      "    return await future\n",
      "  File \"c:\\Users\\AezersX\\anaconda3\\envs\\tensorflow\\lib\\site-packages\\anyio\\_backends\\_asyncio.py\", line 807, in run\n",
      "    result = context.run(func, *args)\n",
      "  File \"c:\\Users\\AezersX\\anaconda3\\envs\\tensorflow\\lib\\site-packages\\gradio\\utils.py\", line 661, in wrapper\n",
      "    response = f(*args, **kwargs)\n",
      "  File \"C:\\Users\\AezersX\\AppData\\Local\\Temp\\ipykernel_23184\\1285878445.py\", line 4, in classify_image\n",
      "    img = img.reshape(1, 28, 28, 1)\n",
      "AttributeError: 'NoneType' object has no attribute 'reshape'\n"
     ]
    },
    {
     "name": "stdout",
     "output_type": "stream",
     "text": [
      "1/1 [==============================] - 0s 14ms/step\n"
     ]
    },
    {
     "name": "stderr",
     "output_type": "stream",
     "text": [
      "Traceback (most recent call last):\n",
      "  File \"c:\\Users\\AezersX\\anaconda3\\envs\\tensorflow\\lib\\site-packages\\gradio\\routes.py\", line 534, in predict\n",
      "    output = await route_utils.call_process_api(\n",
      "  File \"c:\\Users\\AezersX\\anaconda3\\envs\\tensorflow\\lib\\site-packages\\gradio\\route_utils.py\", line 226, in call_process_api\n",
      "    output = await app.get_blocks().process_api(\n",
      "  File \"c:\\Users\\AezersX\\anaconda3\\envs\\tensorflow\\lib\\site-packages\\gradio\\blocks.py\", line 1550, in process_api\n",
      "    result = await self.call_function(\n",
      "  File \"c:\\Users\\AezersX\\anaconda3\\envs\\tensorflow\\lib\\site-packages\\gradio\\blocks.py\", line 1185, in call_function\n",
      "    prediction = await anyio.to_thread.run_sync(\n",
      "  File \"c:\\Users\\AezersX\\anaconda3\\envs\\tensorflow\\lib\\site-packages\\anyio\\to_thread.py\", line 33, in run_sync\n",
      "    return await get_asynclib().run_sync_in_worker_thread(\n",
      "  File \"c:\\Users\\AezersX\\anaconda3\\envs\\tensorflow\\lib\\site-packages\\anyio\\_backends\\_asyncio.py\", line 877, in run_sync_in_worker_thread\n",
      "    return await future\n",
      "  File \"c:\\Users\\AezersX\\anaconda3\\envs\\tensorflow\\lib\\site-packages\\anyio\\_backends\\_asyncio.py\", line 807, in run\n",
      "    result = context.run(func, *args)\n",
      "  File \"c:\\Users\\AezersX\\anaconda3\\envs\\tensorflow\\lib\\site-packages\\gradio\\utils.py\", line 661, in wrapper\n",
      "    response = f(*args, **kwargs)\n",
      "  File \"C:\\Users\\AezersX\\AppData\\Local\\Temp\\ipykernel_23184\\1285878445.py\", line 4, in classify_image\n",
      "    img = img.reshape(1, 28, 28, 1)\n",
      "AttributeError: 'NoneType' object has no attribute 'reshape'\n"
     ]
    },
    {
     "name": "stdout",
     "output_type": "stream",
     "text": [
      "1/1 [==============================] - 0s 19ms/step\n"
     ]
    },
    {
     "name": "stderr",
     "output_type": "stream",
     "text": [
      "Traceback (most recent call last):\n",
      "  File \"c:\\Users\\AezersX\\anaconda3\\envs\\tensorflow\\lib\\site-packages\\gradio\\routes.py\", line 534, in predict\n",
      "    output = await route_utils.call_process_api(\n",
      "  File \"c:\\Users\\AezersX\\anaconda3\\envs\\tensorflow\\lib\\site-packages\\gradio\\route_utils.py\", line 226, in call_process_api\n",
      "    output = await app.get_blocks().process_api(\n",
      "  File \"c:\\Users\\AezersX\\anaconda3\\envs\\tensorflow\\lib\\site-packages\\gradio\\blocks.py\", line 1550, in process_api\n",
      "    result = await self.call_function(\n",
      "  File \"c:\\Users\\AezersX\\anaconda3\\envs\\tensorflow\\lib\\site-packages\\gradio\\blocks.py\", line 1185, in call_function\n",
      "    prediction = await anyio.to_thread.run_sync(\n",
      "  File \"c:\\Users\\AezersX\\anaconda3\\envs\\tensorflow\\lib\\site-packages\\anyio\\to_thread.py\", line 33, in run_sync\n",
      "    return await get_asynclib().run_sync_in_worker_thread(\n",
      "  File \"c:\\Users\\AezersX\\anaconda3\\envs\\tensorflow\\lib\\site-packages\\anyio\\_backends\\_asyncio.py\", line 877, in run_sync_in_worker_thread\n",
      "    return await future\n",
      "  File \"c:\\Users\\AezersX\\anaconda3\\envs\\tensorflow\\lib\\site-packages\\anyio\\_backends\\_asyncio.py\", line 807, in run\n",
      "    result = context.run(func, *args)\n",
      "  File \"c:\\Users\\AezersX\\anaconda3\\envs\\tensorflow\\lib\\site-packages\\gradio\\utils.py\", line 661, in wrapper\n",
      "    response = f(*args, **kwargs)\n",
      "  File \"C:\\Users\\AezersX\\AppData\\Local\\Temp\\ipykernel_23184\\1285878445.py\", line 4, in classify_image\n",
      "    img = img.reshape(1, 28, 28, 1)\n",
      "AttributeError: 'NoneType' object has no attribute 'reshape'\n"
     ]
    },
    {
     "name": "stdout",
     "output_type": "stream",
     "text": [
      "1/1 [==============================] - 0s 16ms/step\n"
     ]
    },
    {
     "name": "stderr",
     "output_type": "stream",
     "text": [
      "Traceback (most recent call last):\n",
      "  File \"c:\\Users\\AezersX\\anaconda3\\envs\\tensorflow\\lib\\site-packages\\gradio\\routes.py\", line 534, in predict\n",
      "    output = await route_utils.call_process_api(\n",
      "  File \"c:\\Users\\AezersX\\anaconda3\\envs\\tensorflow\\lib\\site-packages\\gradio\\route_utils.py\", line 226, in call_process_api\n",
      "    output = await app.get_blocks().process_api(\n",
      "  File \"c:\\Users\\AezersX\\anaconda3\\envs\\tensorflow\\lib\\site-packages\\gradio\\blocks.py\", line 1550, in process_api\n",
      "    result = await self.call_function(\n",
      "  File \"c:\\Users\\AezersX\\anaconda3\\envs\\tensorflow\\lib\\site-packages\\gradio\\blocks.py\", line 1185, in call_function\n",
      "    prediction = await anyio.to_thread.run_sync(\n",
      "  File \"c:\\Users\\AezersX\\anaconda3\\envs\\tensorflow\\lib\\site-packages\\anyio\\to_thread.py\", line 33, in run_sync\n",
      "    return await get_asynclib().run_sync_in_worker_thread(\n",
      "  File \"c:\\Users\\AezersX\\anaconda3\\envs\\tensorflow\\lib\\site-packages\\anyio\\_backends\\_asyncio.py\", line 877, in run_sync_in_worker_thread\n",
      "    return await future\n",
      "  File \"c:\\Users\\AezersX\\anaconda3\\envs\\tensorflow\\lib\\site-packages\\anyio\\_backends\\_asyncio.py\", line 807, in run\n",
      "    result = context.run(func, *args)\n",
      "  File \"c:\\Users\\AezersX\\anaconda3\\envs\\tensorflow\\lib\\site-packages\\gradio\\utils.py\", line 661, in wrapper\n",
      "    response = f(*args, **kwargs)\n",
      "  File \"C:\\Users\\AezersX\\AppData\\Local\\Temp\\ipykernel_23184\\1285878445.py\", line 4, in classify_image\n",
      "    img = img.reshape(1, 28, 28, 1)\n",
      "AttributeError: 'NoneType' object has no attribute 'reshape'\n"
     ]
    },
    {
     "name": "stdout",
     "output_type": "stream",
     "text": [
      "1/1 [==============================] - 0s 18ms/step\n"
     ]
    },
    {
     "name": "stderr",
     "output_type": "stream",
     "text": [
      "Traceback (most recent call last):\n",
      "  File \"c:\\Users\\AezersX\\anaconda3\\envs\\tensorflow\\lib\\site-packages\\gradio\\routes.py\", line 534, in predict\n",
      "    output = await route_utils.call_process_api(\n",
      "  File \"c:\\Users\\AezersX\\anaconda3\\envs\\tensorflow\\lib\\site-packages\\gradio\\route_utils.py\", line 226, in call_process_api\n",
      "    output = await app.get_blocks().process_api(\n",
      "  File \"c:\\Users\\AezersX\\anaconda3\\envs\\tensorflow\\lib\\site-packages\\gradio\\blocks.py\", line 1550, in process_api\n",
      "    result = await self.call_function(\n",
      "  File \"c:\\Users\\AezersX\\anaconda3\\envs\\tensorflow\\lib\\site-packages\\gradio\\blocks.py\", line 1185, in call_function\n",
      "    prediction = await anyio.to_thread.run_sync(\n",
      "  File \"c:\\Users\\AezersX\\anaconda3\\envs\\tensorflow\\lib\\site-packages\\anyio\\to_thread.py\", line 33, in run_sync\n",
      "    return await get_asynclib().run_sync_in_worker_thread(\n",
      "  File \"c:\\Users\\AezersX\\anaconda3\\envs\\tensorflow\\lib\\site-packages\\anyio\\_backends\\_asyncio.py\", line 877, in run_sync_in_worker_thread\n",
      "    return await future\n",
      "  File \"c:\\Users\\AezersX\\anaconda3\\envs\\tensorflow\\lib\\site-packages\\anyio\\_backends\\_asyncio.py\", line 807, in run\n",
      "    result = context.run(func, *args)\n",
      "  File \"c:\\Users\\AezersX\\anaconda3\\envs\\tensorflow\\lib\\site-packages\\gradio\\utils.py\", line 661, in wrapper\n",
      "    response = f(*args, **kwargs)\n",
      "  File \"C:\\Users\\AezersX\\AppData\\Local\\Temp\\ipykernel_23184\\1285878445.py\", line 4, in classify_image\n",
      "    img = img.reshape(1, 28, 28, 1)\n",
      "AttributeError: 'NoneType' object has no attribute 'reshape'\n"
     ]
    },
    {
     "name": "stdout",
     "output_type": "stream",
     "text": [
      "1/1 [==============================] - 0s 16ms/step\n",
      "1/1 [==============================] - 0s 15ms/step\n"
     ]
    },
    {
     "name": "stderr",
     "output_type": "stream",
     "text": [
      "Traceback (most recent call last):\n",
      "  File \"c:\\Users\\AezersX\\anaconda3\\envs\\tensorflow\\lib\\site-packages\\gradio\\routes.py\", line 534, in predict\n",
      "    output = await route_utils.call_process_api(\n",
      "  File \"c:\\Users\\AezersX\\anaconda3\\envs\\tensorflow\\lib\\site-packages\\gradio\\route_utils.py\", line 226, in call_process_api\n",
      "    output = await app.get_blocks().process_api(\n",
      "  File \"c:\\Users\\AezersX\\anaconda3\\envs\\tensorflow\\lib\\site-packages\\gradio\\blocks.py\", line 1550, in process_api\n",
      "    result = await self.call_function(\n",
      "  File \"c:\\Users\\AezersX\\anaconda3\\envs\\tensorflow\\lib\\site-packages\\gradio\\blocks.py\", line 1185, in call_function\n",
      "    prediction = await anyio.to_thread.run_sync(\n",
      "  File \"c:\\Users\\AezersX\\anaconda3\\envs\\tensorflow\\lib\\site-packages\\anyio\\to_thread.py\", line 33, in run_sync\n",
      "    return await get_asynclib().run_sync_in_worker_thread(\n",
      "  File \"c:\\Users\\AezersX\\anaconda3\\envs\\tensorflow\\lib\\site-packages\\anyio\\_backends\\_asyncio.py\", line 877, in run_sync_in_worker_thread\n",
      "    return await future\n",
      "  File \"c:\\Users\\AezersX\\anaconda3\\envs\\tensorflow\\lib\\site-packages\\anyio\\_backends\\_asyncio.py\", line 807, in run\n",
      "    result = context.run(func, *args)\n",
      "  File \"c:\\Users\\AezersX\\anaconda3\\envs\\tensorflow\\lib\\site-packages\\gradio\\utils.py\", line 661, in wrapper\n",
      "    response = f(*args, **kwargs)\n",
      "  File \"C:\\Users\\AezersX\\AppData\\Local\\Temp\\ipykernel_23184\\1285878445.py\", line 4, in classify_image\n",
      "    img = img.reshape(1, 28, 28, 1)\n",
      "AttributeError: 'NoneType' object has no attribute 'reshape'\n"
     ]
    },
    {
     "name": "stdout",
     "output_type": "stream",
     "text": [
      "1/1 [==============================] - 0s 17ms/step\n",
      "1/1 [==============================] - 0s 19ms/step\n"
     ]
    },
    {
     "name": "stderr",
     "output_type": "stream",
     "text": [
      "Traceback (most recent call last):\n",
      "  File \"c:\\Users\\AezersX\\anaconda3\\envs\\tensorflow\\lib\\site-packages\\gradio\\routes.py\", line 534, in predict\n",
      "    output = await route_utils.call_process_api(\n",
      "  File \"c:\\Users\\AezersX\\anaconda3\\envs\\tensorflow\\lib\\site-packages\\gradio\\route_utils.py\", line 226, in call_process_api\n",
      "    output = await app.get_blocks().process_api(\n",
      "  File \"c:\\Users\\AezersX\\anaconda3\\envs\\tensorflow\\lib\\site-packages\\gradio\\blocks.py\", line 1550, in process_api\n",
      "    result = await self.call_function(\n",
      "  File \"c:\\Users\\AezersX\\anaconda3\\envs\\tensorflow\\lib\\site-packages\\gradio\\blocks.py\", line 1185, in call_function\n",
      "    prediction = await anyio.to_thread.run_sync(\n",
      "  File \"c:\\Users\\AezersX\\anaconda3\\envs\\tensorflow\\lib\\site-packages\\anyio\\to_thread.py\", line 33, in run_sync\n",
      "    return await get_asynclib().run_sync_in_worker_thread(\n",
      "  File \"c:\\Users\\AezersX\\anaconda3\\envs\\tensorflow\\lib\\site-packages\\anyio\\_backends\\_asyncio.py\", line 877, in run_sync_in_worker_thread\n",
      "    return await future\n",
      "  File \"c:\\Users\\AezersX\\anaconda3\\envs\\tensorflow\\lib\\site-packages\\anyio\\_backends\\_asyncio.py\", line 807, in run\n",
      "    result = context.run(func, *args)\n",
      "  File \"c:\\Users\\AezersX\\anaconda3\\envs\\tensorflow\\lib\\site-packages\\gradio\\utils.py\", line 661, in wrapper\n",
      "    response = f(*args, **kwargs)\n",
      "  File \"C:\\Users\\AezersX\\AppData\\Local\\Temp\\ipykernel_23184\\1285878445.py\", line 4, in classify_image\n",
      "    img = img.reshape(1, 28, 28, 1)\n",
      "AttributeError: 'NoneType' object has no attribute 'reshape'\n"
     ]
    },
    {
     "name": "stdout",
     "output_type": "stream",
     "text": [
      "1/1 [==============================] - 0s 15ms/step\n"
     ]
    },
    {
     "name": "stderr",
     "output_type": "stream",
     "text": [
      "Traceback (most recent call last):\n",
      "  File \"c:\\Users\\AezersX\\anaconda3\\envs\\tensorflow\\lib\\site-packages\\gradio\\routes.py\", line 534, in predict\n",
      "    output = await route_utils.call_process_api(\n",
      "  File \"c:\\Users\\AezersX\\anaconda3\\envs\\tensorflow\\lib\\site-packages\\gradio\\route_utils.py\", line 226, in call_process_api\n",
      "    output = await app.get_blocks().process_api(\n",
      "  File \"c:\\Users\\AezersX\\anaconda3\\envs\\tensorflow\\lib\\site-packages\\gradio\\blocks.py\", line 1550, in process_api\n",
      "    result = await self.call_function(\n",
      "  File \"c:\\Users\\AezersX\\anaconda3\\envs\\tensorflow\\lib\\site-packages\\gradio\\blocks.py\", line 1185, in call_function\n",
      "    prediction = await anyio.to_thread.run_sync(\n",
      "  File \"c:\\Users\\AezersX\\anaconda3\\envs\\tensorflow\\lib\\site-packages\\anyio\\to_thread.py\", line 33, in run_sync\n",
      "    return await get_asynclib().run_sync_in_worker_thread(\n",
      "  File \"c:\\Users\\AezersX\\anaconda3\\envs\\tensorflow\\lib\\site-packages\\anyio\\_backends\\_asyncio.py\", line 877, in run_sync_in_worker_thread\n",
      "    return await future\n",
      "  File \"c:\\Users\\AezersX\\anaconda3\\envs\\tensorflow\\lib\\site-packages\\anyio\\_backends\\_asyncio.py\", line 807, in run\n",
      "    result = context.run(func, *args)\n",
      "  File \"c:\\Users\\AezersX\\anaconda3\\envs\\tensorflow\\lib\\site-packages\\gradio\\utils.py\", line 661, in wrapper\n",
      "    response = f(*args, **kwargs)\n",
      "  File \"C:\\Users\\AezersX\\AppData\\Local\\Temp\\ipykernel_23184\\1285878445.py\", line 4, in classify_image\n",
      "    img = img.reshape(1, 28, 28, 1)\n",
      "AttributeError: 'NoneType' object has no attribute 'reshape'\n"
     ]
    },
    {
     "name": "stdout",
     "output_type": "stream",
     "text": [
      "1/1 [==============================] - 0s 17ms/step\n"
     ]
    },
    {
     "name": "stderr",
     "output_type": "stream",
     "text": [
      "Traceback (most recent call last):\n",
      "  File \"c:\\Users\\AezersX\\anaconda3\\envs\\tensorflow\\lib\\site-packages\\gradio\\routes.py\", line 534, in predict\n",
      "    output = await route_utils.call_process_api(\n",
      "  File \"c:\\Users\\AezersX\\anaconda3\\envs\\tensorflow\\lib\\site-packages\\gradio\\route_utils.py\", line 226, in call_process_api\n",
      "    output = await app.get_blocks().process_api(\n",
      "  File \"c:\\Users\\AezersX\\anaconda3\\envs\\tensorflow\\lib\\site-packages\\gradio\\blocks.py\", line 1550, in process_api\n",
      "    result = await self.call_function(\n",
      "  File \"c:\\Users\\AezersX\\anaconda3\\envs\\tensorflow\\lib\\site-packages\\gradio\\blocks.py\", line 1185, in call_function\n",
      "    prediction = await anyio.to_thread.run_sync(\n",
      "  File \"c:\\Users\\AezersX\\anaconda3\\envs\\tensorflow\\lib\\site-packages\\anyio\\to_thread.py\", line 33, in run_sync\n",
      "    return await get_asynclib().run_sync_in_worker_thread(\n",
      "  File \"c:\\Users\\AezersX\\anaconda3\\envs\\tensorflow\\lib\\site-packages\\anyio\\_backends\\_asyncio.py\", line 877, in run_sync_in_worker_thread\n",
      "    return await future\n",
      "  File \"c:\\Users\\AezersX\\anaconda3\\envs\\tensorflow\\lib\\site-packages\\anyio\\_backends\\_asyncio.py\", line 807, in run\n",
      "    result = context.run(func, *args)\n",
      "  File \"c:\\Users\\AezersX\\anaconda3\\envs\\tensorflow\\lib\\site-packages\\gradio\\utils.py\", line 661, in wrapper\n",
      "    response = f(*args, **kwargs)\n",
      "  File \"C:\\Users\\AezersX\\AppData\\Local\\Temp\\ipykernel_23184\\1285878445.py\", line 4, in classify_image\n",
      "    img = img.reshape(1, 28, 28, 1)\n",
      "AttributeError: 'NoneType' object has no attribute 'reshape'\n"
     ]
    },
    {
     "name": "stdout",
     "output_type": "stream",
     "text": [
      "1/1 [==============================] - 0s 16ms/step\n"
     ]
    },
    {
     "name": "stderr",
     "output_type": "stream",
     "text": [
      "Traceback (most recent call last):\n",
      "  File \"c:\\Users\\AezersX\\anaconda3\\envs\\tensorflow\\lib\\site-packages\\gradio\\routes.py\", line 534, in predict\n",
      "    output = await route_utils.call_process_api(\n",
      "  File \"c:\\Users\\AezersX\\anaconda3\\envs\\tensorflow\\lib\\site-packages\\gradio\\route_utils.py\", line 226, in call_process_api\n",
      "    output = await app.get_blocks().process_api(\n",
      "  File \"c:\\Users\\AezersX\\anaconda3\\envs\\tensorflow\\lib\\site-packages\\gradio\\blocks.py\", line 1550, in process_api\n",
      "    result = await self.call_function(\n",
      "  File \"c:\\Users\\AezersX\\anaconda3\\envs\\tensorflow\\lib\\site-packages\\gradio\\blocks.py\", line 1185, in call_function\n",
      "    prediction = await anyio.to_thread.run_sync(\n",
      "  File \"c:\\Users\\AezersX\\anaconda3\\envs\\tensorflow\\lib\\site-packages\\anyio\\to_thread.py\", line 33, in run_sync\n",
      "    return await get_asynclib().run_sync_in_worker_thread(\n",
      "  File \"c:\\Users\\AezersX\\anaconda3\\envs\\tensorflow\\lib\\site-packages\\anyio\\_backends\\_asyncio.py\", line 877, in run_sync_in_worker_thread\n",
      "    return await future\n",
      "  File \"c:\\Users\\AezersX\\anaconda3\\envs\\tensorflow\\lib\\site-packages\\anyio\\_backends\\_asyncio.py\", line 807, in run\n",
      "    result = context.run(func, *args)\n",
      "  File \"c:\\Users\\AezersX\\anaconda3\\envs\\tensorflow\\lib\\site-packages\\gradio\\utils.py\", line 661, in wrapper\n",
      "    response = f(*args, **kwargs)\n",
      "  File \"C:\\Users\\AezersX\\AppData\\Local\\Temp\\ipykernel_23184\\1285878445.py\", line 4, in classify_image\n",
      "    img = img.reshape(1, 28, 28, 1)\n",
      "AttributeError: 'NoneType' object has no attribute 'reshape'\n"
     ]
    },
    {
     "name": "stdout",
     "output_type": "stream",
     "text": [
      "1/1 [==============================] - 0s 22ms/step\n"
     ]
    },
    {
     "name": "stderr",
     "output_type": "stream",
     "text": [
      "Traceback (most recent call last):\n",
      "  File \"c:\\Users\\AezersX\\anaconda3\\envs\\tensorflow\\lib\\site-packages\\gradio\\routes.py\", line 534, in predict\n",
      "    output = await route_utils.call_process_api(\n",
      "  File \"c:\\Users\\AezersX\\anaconda3\\envs\\tensorflow\\lib\\site-packages\\gradio\\route_utils.py\", line 226, in call_process_api\n",
      "    output = await app.get_blocks().process_api(\n",
      "  File \"c:\\Users\\AezersX\\anaconda3\\envs\\tensorflow\\lib\\site-packages\\gradio\\blocks.py\", line 1550, in process_api\n",
      "    result = await self.call_function(\n",
      "  File \"c:\\Users\\AezersX\\anaconda3\\envs\\tensorflow\\lib\\site-packages\\gradio\\blocks.py\", line 1185, in call_function\n",
      "    prediction = await anyio.to_thread.run_sync(\n",
      "  File \"c:\\Users\\AezersX\\anaconda3\\envs\\tensorflow\\lib\\site-packages\\anyio\\to_thread.py\", line 33, in run_sync\n",
      "    return await get_asynclib().run_sync_in_worker_thread(\n",
      "  File \"c:\\Users\\AezersX\\anaconda3\\envs\\tensorflow\\lib\\site-packages\\anyio\\_backends\\_asyncio.py\", line 877, in run_sync_in_worker_thread\n",
      "    return await future\n",
      "  File \"c:\\Users\\AezersX\\anaconda3\\envs\\tensorflow\\lib\\site-packages\\anyio\\_backends\\_asyncio.py\", line 807, in run\n",
      "    result = context.run(func, *args)\n",
      "  File \"c:\\Users\\AezersX\\anaconda3\\envs\\tensorflow\\lib\\site-packages\\gradio\\utils.py\", line 661, in wrapper\n",
      "    response = f(*args, **kwargs)\n",
      "  File \"C:\\Users\\AezersX\\AppData\\Local\\Temp\\ipykernel_23184\\1285878445.py\", line 4, in classify_image\n",
      "    img = img.reshape(1, 28, 28, 1)\n",
      "AttributeError: 'NoneType' object has no attribute 'reshape'\n"
     ]
    },
    {
     "name": "stdout",
     "output_type": "stream",
     "text": [
      "1/1 [==============================] - 0s 18ms/step\n"
     ]
    },
    {
     "name": "stderr",
     "output_type": "stream",
     "text": [
      "Traceback (most recent call last):\n",
      "  File \"c:\\Users\\AezersX\\anaconda3\\envs\\tensorflow\\lib\\site-packages\\gradio\\routes.py\", line 534, in predict\n",
      "    output = await route_utils.call_process_api(\n",
      "  File \"c:\\Users\\AezersX\\anaconda3\\envs\\tensorflow\\lib\\site-packages\\gradio\\route_utils.py\", line 226, in call_process_api\n",
      "    output = await app.get_blocks().process_api(\n",
      "  File \"c:\\Users\\AezersX\\anaconda3\\envs\\tensorflow\\lib\\site-packages\\gradio\\blocks.py\", line 1550, in process_api\n",
      "    result = await self.call_function(\n",
      "  File \"c:\\Users\\AezersX\\anaconda3\\envs\\tensorflow\\lib\\site-packages\\gradio\\blocks.py\", line 1185, in call_function\n",
      "    prediction = await anyio.to_thread.run_sync(\n",
      "  File \"c:\\Users\\AezersX\\anaconda3\\envs\\tensorflow\\lib\\site-packages\\anyio\\to_thread.py\", line 33, in run_sync\n",
      "    return await get_asynclib().run_sync_in_worker_thread(\n",
      "  File \"c:\\Users\\AezersX\\anaconda3\\envs\\tensorflow\\lib\\site-packages\\anyio\\_backends\\_asyncio.py\", line 877, in run_sync_in_worker_thread\n",
      "    return await future\n",
      "  File \"c:\\Users\\AezersX\\anaconda3\\envs\\tensorflow\\lib\\site-packages\\anyio\\_backends\\_asyncio.py\", line 807, in run\n",
      "    result = context.run(func, *args)\n",
      "  File \"c:\\Users\\AezersX\\anaconda3\\envs\\tensorflow\\lib\\site-packages\\gradio\\utils.py\", line 661, in wrapper\n",
      "    response = f(*args, **kwargs)\n",
      "  File \"C:\\Users\\AezersX\\AppData\\Local\\Temp\\ipykernel_23184\\1285878445.py\", line 4, in classify_image\n",
      "    img = img.reshape(1, 28, 28, 1)\n",
      "AttributeError: 'NoneType' object has no attribute 'reshape'\n"
     ]
    },
    {
     "name": "stdout",
     "output_type": "stream",
     "text": [
      "1/1 [==============================] - 0s 15ms/step\n"
     ]
    },
    {
     "name": "stderr",
     "output_type": "stream",
     "text": [
      "Traceback (most recent call last):\n",
      "  File \"c:\\Users\\AezersX\\anaconda3\\envs\\tensorflow\\lib\\site-packages\\gradio\\routes.py\", line 534, in predict\n",
      "    output = await route_utils.call_process_api(\n",
      "  File \"c:\\Users\\AezersX\\anaconda3\\envs\\tensorflow\\lib\\site-packages\\gradio\\route_utils.py\", line 226, in call_process_api\n",
      "    output = await app.get_blocks().process_api(\n",
      "  File \"c:\\Users\\AezersX\\anaconda3\\envs\\tensorflow\\lib\\site-packages\\gradio\\blocks.py\", line 1550, in process_api\n",
      "    result = await self.call_function(\n",
      "  File \"c:\\Users\\AezersX\\anaconda3\\envs\\tensorflow\\lib\\site-packages\\gradio\\blocks.py\", line 1185, in call_function\n",
      "    prediction = await anyio.to_thread.run_sync(\n",
      "  File \"c:\\Users\\AezersX\\anaconda3\\envs\\tensorflow\\lib\\site-packages\\anyio\\to_thread.py\", line 33, in run_sync\n",
      "    return await get_asynclib().run_sync_in_worker_thread(\n",
      "  File \"c:\\Users\\AezersX\\anaconda3\\envs\\tensorflow\\lib\\site-packages\\anyio\\_backends\\_asyncio.py\", line 877, in run_sync_in_worker_thread\n",
      "    return await future\n",
      "  File \"c:\\Users\\AezersX\\anaconda3\\envs\\tensorflow\\lib\\site-packages\\anyio\\_backends\\_asyncio.py\", line 807, in run\n",
      "    result = context.run(func, *args)\n",
      "  File \"c:\\Users\\AezersX\\anaconda3\\envs\\tensorflow\\lib\\site-packages\\gradio\\utils.py\", line 661, in wrapper\n",
      "    response = f(*args, **kwargs)\n",
      "  File \"C:\\Users\\AezersX\\AppData\\Local\\Temp\\ipykernel_23184\\1285878445.py\", line 4, in classify_image\n",
      "    img = img.reshape(1, 28, 28, 1)\n",
      "AttributeError: 'NoneType' object has no attribute 'reshape'\n"
     ]
    },
    {
     "name": "stdout",
     "output_type": "stream",
     "text": [
      "1/1 [==============================] - 0s 17ms/step\n"
     ]
    },
    {
     "name": "stderr",
     "output_type": "stream",
     "text": [
      "Traceback (most recent call last):\n",
      "  File \"c:\\Users\\AezersX\\anaconda3\\envs\\tensorflow\\lib\\site-packages\\gradio\\routes.py\", line 534, in predict\n",
      "    output = await route_utils.call_process_api(\n",
      "  File \"c:\\Users\\AezersX\\anaconda3\\envs\\tensorflow\\lib\\site-packages\\gradio\\route_utils.py\", line 226, in call_process_api\n",
      "    output = await app.get_blocks().process_api(\n",
      "  File \"c:\\Users\\AezersX\\anaconda3\\envs\\tensorflow\\lib\\site-packages\\gradio\\blocks.py\", line 1550, in process_api\n",
      "    result = await self.call_function(\n",
      "  File \"c:\\Users\\AezersX\\anaconda3\\envs\\tensorflow\\lib\\site-packages\\gradio\\blocks.py\", line 1185, in call_function\n",
      "    prediction = await anyio.to_thread.run_sync(\n",
      "  File \"c:\\Users\\AezersX\\anaconda3\\envs\\tensorflow\\lib\\site-packages\\anyio\\to_thread.py\", line 33, in run_sync\n",
      "    return await get_asynclib().run_sync_in_worker_thread(\n",
      "  File \"c:\\Users\\AezersX\\anaconda3\\envs\\tensorflow\\lib\\site-packages\\anyio\\_backends\\_asyncio.py\", line 877, in run_sync_in_worker_thread\n",
      "    return await future\n",
      "  File \"c:\\Users\\AezersX\\anaconda3\\envs\\tensorflow\\lib\\site-packages\\anyio\\_backends\\_asyncio.py\", line 807, in run\n",
      "    result = context.run(func, *args)\n",
      "  File \"c:\\Users\\AezersX\\anaconda3\\envs\\tensorflow\\lib\\site-packages\\gradio\\utils.py\", line 661, in wrapper\n",
      "    response = f(*args, **kwargs)\n",
      "  File \"C:\\Users\\AezersX\\AppData\\Local\\Temp\\ipykernel_23184\\1285878445.py\", line 4, in classify_image\n",
      "    img = img.reshape(1, 28, 28, 1)\n",
      "AttributeError: 'NoneType' object has no attribute 'reshape'\n"
     ]
    },
    {
     "name": "stdout",
     "output_type": "stream",
     "text": [
      "1/1 [==============================] - 0s 18ms/step\n"
     ]
    },
    {
     "name": "stderr",
     "output_type": "stream",
     "text": [
      "Traceback (most recent call last):\n",
      "  File \"c:\\Users\\AezersX\\anaconda3\\envs\\tensorflow\\lib\\site-packages\\gradio\\routes.py\", line 534, in predict\n",
      "    output = await route_utils.call_process_api(\n",
      "  File \"c:\\Users\\AezersX\\anaconda3\\envs\\tensorflow\\lib\\site-packages\\gradio\\route_utils.py\", line 226, in call_process_api\n",
      "    output = await app.get_blocks().process_api(\n",
      "  File \"c:\\Users\\AezersX\\anaconda3\\envs\\tensorflow\\lib\\site-packages\\gradio\\blocks.py\", line 1550, in process_api\n",
      "    result = await self.call_function(\n",
      "  File \"c:\\Users\\AezersX\\anaconda3\\envs\\tensorflow\\lib\\site-packages\\gradio\\blocks.py\", line 1185, in call_function\n",
      "    prediction = await anyio.to_thread.run_sync(\n",
      "  File \"c:\\Users\\AezersX\\anaconda3\\envs\\tensorflow\\lib\\site-packages\\anyio\\to_thread.py\", line 33, in run_sync\n",
      "    return await get_asynclib().run_sync_in_worker_thread(\n",
      "  File \"c:\\Users\\AezersX\\anaconda3\\envs\\tensorflow\\lib\\site-packages\\anyio\\_backends\\_asyncio.py\", line 877, in run_sync_in_worker_thread\n",
      "    return await future\n",
      "  File \"c:\\Users\\AezersX\\anaconda3\\envs\\tensorflow\\lib\\site-packages\\anyio\\_backends\\_asyncio.py\", line 807, in run\n",
      "    result = context.run(func, *args)\n",
      "  File \"c:\\Users\\AezersX\\anaconda3\\envs\\tensorflow\\lib\\site-packages\\gradio\\utils.py\", line 661, in wrapper\n",
      "    response = f(*args, **kwargs)\n",
      "  File \"C:\\Users\\AezersX\\AppData\\Local\\Temp\\ipykernel_23184\\1285878445.py\", line 4, in classify_image\n",
      "    img = img.reshape(1, 28, 28, 1)\n",
      "AttributeError: 'NoneType' object has no attribute 'reshape'\n"
     ]
    },
    {
     "name": "stdout",
     "output_type": "stream",
     "text": [
      "1/1 [==============================] - 0s 22ms/step\n"
     ]
    },
    {
     "name": "stderr",
     "output_type": "stream",
     "text": [
      "Traceback (most recent call last):\n",
      "  File \"c:\\Users\\AezersX\\anaconda3\\envs\\tensorflow\\lib\\site-packages\\gradio\\routes.py\", line 534, in predict\n",
      "    output = await route_utils.call_process_api(\n",
      "  File \"c:\\Users\\AezersX\\anaconda3\\envs\\tensorflow\\lib\\site-packages\\gradio\\route_utils.py\", line 226, in call_process_api\n",
      "    output = await app.get_blocks().process_api(\n",
      "  File \"c:\\Users\\AezersX\\anaconda3\\envs\\tensorflow\\lib\\site-packages\\gradio\\blocks.py\", line 1550, in process_api\n",
      "    result = await self.call_function(\n",
      "  File \"c:\\Users\\AezersX\\anaconda3\\envs\\tensorflow\\lib\\site-packages\\gradio\\blocks.py\", line 1185, in call_function\n",
      "    prediction = await anyio.to_thread.run_sync(\n",
      "  File \"c:\\Users\\AezersX\\anaconda3\\envs\\tensorflow\\lib\\site-packages\\anyio\\to_thread.py\", line 33, in run_sync\n",
      "    return await get_asynclib().run_sync_in_worker_thread(\n",
      "  File \"c:\\Users\\AezersX\\anaconda3\\envs\\tensorflow\\lib\\site-packages\\anyio\\_backends\\_asyncio.py\", line 877, in run_sync_in_worker_thread\n",
      "    return await future\n",
      "  File \"c:\\Users\\AezersX\\anaconda3\\envs\\tensorflow\\lib\\site-packages\\anyio\\_backends\\_asyncio.py\", line 807, in run\n",
      "    result = context.run(func, *args)\n",
      "  File \"c:\\Users\\AezersX\\anaconda3\\envs\\tensorflow\\lib\\site-packages\\gradio\\utils.py\", line 661, in wrapper\n",
      "    response = f(*args, **kwargs)\n",
      "  File \"C:\\Users\\AezersX\\AppData\\Local\\Temp\\ipykernel_23184\\1285878445.py\", line 4, in classify_image\n",
      "    img = img.reshape(1, 28, 28, 1)\n",
      "AttributeError: 'NoneType' object has no attribute 'reshape'\n"
     ]
    },
    {
     "name": "stdout",
     "output_type": "stream",
     "text": [
      "1/1 [==============================] - 0s 14ms/step\n"
     ]
    },
    {
     "name": "stderr",
     "output_type": "stream",
     "text": [
      "Traceback (most recent call last):\n",
      "  File \"c:\\Users\\AezersX\\anaconda3\\envs\\tensorflow\\lib\\site-packages\\gradio\\routes.py\", line 534, in predict\n",
      "    output = await route_utils.call_process_api(\n",
      "  File \"c:\\Users\\AezersX\\anaconda3\\envs\\tensorflow\\lib\\site-packages\\gradio\\route_utils.py\", line 226, in call_process_api\n",
      "    output = await app.get_blocks().process_api(\n",
      "  File \"c:\\Users\\AezersX\\anaconda3\\envs\\tensorflow\\lib\\site-packages\\gradio\\blocks.py\", line 1550, in process_api\n",
      "    result = await self.call_function(\n",
      "  File \"c:\\Users\\AezersX\\anaconda3\\envs\\tensorflow\\lib\\site-packages\\gradio\\blocks.py\", line 1185, in call_function\n",
      "    prediction = await anyio.to_thread.run_sync(\n",
      "  File \"c:\\Users\\AezersX\\anaconda3\\envs\\tensorflow\\lib\\site-packages\\anyio\\to_thread.py\", line 33, in run_sync\n",
      "    return await get_asynclib().run_sync_in_worker_thread(\n",
      "  File \"c:\\Users\\AezersX\\anaconda3\\envs\\tensorflow\\lib\\site-packages\\anyio\\_backends\\_asyncio.py\", line 877, in run_sync_in_worker_thread\n",
      "    return await future\n",
      "  File \"c:\\Users\\AezersX\\anaconda3\\envs\\tensorflow\\lib\\site-packages\\anyio\\_backends\\_asyncio.py\", line 807, in run\n",
      "    result = context.run(func, *args)\n",
      "  File \"c:\\Users\\AezersX\\anaconda3\\envs\\tensorflow\\lib\\site-packages\\gradio\\utils.py\", line 661, in wrapper\n",
      "    response = f(*args, **kwargs)\n",
      "  File \"C:\\Users\\AezersX\\AppData\\Local\\Temp\\ipykernel_23184\\1285878445.py\", line 4, in classify_image\n",
      "    img = img.reshape(1, 28, 28, 1)\n",
      "AttributeError: 'NoneType' object has no attribute 'reshape'\n"
     ]
    },
    {
     "name": "stdout",
     "output_type": "stream",
     "text": [
      "1/1 [==============================] - 0s 19ms/step\n"
     ]
    },
    {
     "name": "stderr",
     "output_type": "stream",
     "text": [
      "Traceback (most recent call last):\n",
      "  File \"c:\\Users\\AezersX\\anaconda3\\envs\\tensorflow\\lib\\site-packages\\gradio\\routes.py\", line 534, in predict\n",
      "    output = await route_utils.call_process_api(\n",
      "  File \"c:\\Users\\AezersX\\anaconda3\\envs\\tensorflow\\lib\\site-packages\\gradio\\route_utils.py\", line 226, in call_process_api\n",
      "    output = await app.get_blocks().process_api(\n",
      "  File \"c:\\Users\\AezersX\\anaconda3\\envs\\tensorflow\\lib\\site-packages\\gradio\\blocks.py\", line 1550, in process_api\n",
      "    result = await self.call_function(\n",
      "  File \"c:\\Users\\AezersX\\anaconda3\\envs\\tensorflow\\lib\\site-packages\\gradio\\blocks.py\", line 1185, in call_function\n",
      "    prediction = await anyio.to_thread.run_sync(\n",
      "  File \"c:\\Users\\AezersX\\anaconda3\\envs\\tensorflow\\lib\\site-packages\\anyio\\to_thread.py\", line 33, in run_sync\n",
      "    return await get_asynclib().run_sync_in_worker_thread(\n",
      "  File \"c:\\Users\\AezersX\\anaconda3\\envs\\tensorflow\\lib\\site-packages\\anyio\\_backends\\_asyncio.py\", line 877, in run_sync_in_worker_thread\n",
      "    return await future\n",
      "  File \"c:\\Users\\AezersX\\anaconda3\\envs\\tensorflow\\lib\\site-packages\\anyio\\_backends\\_asyncio.py\", line 807, in run\n",
      "    result = context.run(func, *args)\n",
      "  File \"c:\\Users\\AezersX\\anaconda3\\envs\\tensorflow\\lib\\site-packages\\gradio\\utils.py\", line 661, in wrapper\n",
      "    response = f(*args, **kwargs)\n",
      "  File \"C:\\Users\\AezersX\\AppData\\Local\\Temp\\ipykernel_23184\\1285878445.py\", line 4, in classify_image\n",
      "    img = img.reshape(1, 28, 28, 1)\n",
      "AttributeError: 'NoneType' object has no attribute 'reshape'\n"
     ]
    },
    {
     "name": "stdout",
     "output_type": "stream",
     "text": [
      "1/1 [==============================] - 0s 15ms/step\n"
     ]
    },
    {
     "name": "stderr",
     "output_type": "stream",
     "text": [
      "Traceback (most recent call last):\n",
      "  File \"c:\\Users\\AezersX\\anaconda3\\envs\\tensorflow\\lib\\site-packages\\gradio\\routes.py\", line 534, in predict\n",
      "    output = await route_utils.call_process_api(\n",
      "  File \"c:\\Users\\AezersX\\anaconda3\\envs\\tensorflow\\lib\\site-packages\\gradio\\route_utils.py\", line 226, in call_process_api\n",
      "    output = await app.get_blocks().process_api(\n",
      "  File \"c:\\Users\\AezersX\\anaconda3\\envs\\tensorflow\\lib\\site-packages\\gradio\\blocks.py\", line 1550, in process_api\n",
      "    result = await self.call_function(\n",
      "  File \"c:\\Users\\AezersX\\anaconda3\\envs\\tensorflow\\lib\\site-packages\\gradio\\blocks.py\", line 1185, in call_function\n",
      "    prediction = await anyio.to_thread.run_sync(\n",
      "  File \"c:\\Users\\AezersX\\anaconda3\\envs\\tensorflow\\lib\\site-packages\\anyio\\to_thread.py\", line 33, in run_sync\n",
      "    return await get_asynclib().run_sync_in_worker_thread(\n",
      "  File \"c:\\Users\\AezersX\\anaconda3\\envs\\tensorflow\\lib\\site-packages\\anyio\\_backends\\_asyncio.py\", line 877, in run_sync_in_worker_thread\n",
      "    return await future\n",
      "  File \"c:\\Users\\AezersX\\anaconda3\\envs\\tensorflow\\lib\\site-packages\\anyio\\_backends\\_asyncio.py\", line 807, in run\n",
      "    result = context.run(func, *args)\n",
      "  File \"c:\\Users\\AezersX\\anaconda3\\envs\\tensorflow\\lib\\site-packages\\gradio\\utils.py\", line 661, in wrapper\n",
      "    response = f(*args, **kwargs)\n",
      "  File \"C:\\Users\\AezersX\\AppData\\Local\\Temp\\ipykernel_23184\\1285878445.py\", line 4, in classify_image\n",
      "    img = img.reshape(1, 28, 28, 1)\n",
      "AttributeError: 'NoneType' object has no attribute 'reshape'\n"
     ]
    },
    {
     "name": "stdout",
     "output_type": "stream",
     "text": [
      "1/1 [==============================] - 0s 17ms/step\n"
     ]
    },
    {
     "name": "stderr",
     "output_type": "stream",
     "text": [
      "Traceback (most recent call last):\n",
      "  File \"c:\\Users\\AezersX\\anaconda3\\envs\\tensorflow\\lib\\site-packages\\gradio\\routes.py\", line 534, in predict\n",
      "    output = await route_utils.call_process_api(\n",
      "  File \"c:\\Users\\AezersX\\anaconda3\\envs\\tensorflow\\lib\\site-packages\\gradio\\route_utils.py\", line 226, in call_process_api\n",
      "    output = await app.get_blocks().process_api(\n",
      "  File \"c:\\Users\\AezersX\\anaconda3\\envs\\tensorflow\\lib\\site-packages\\gradio\\blocks.py\", line 1550, in process_api\n",
      "    result = await self.call_function(\n",
      "  File \"c:\\Users\\AezersX\\anaconda3\\envs\\tensorflow\\lib\\site-packages\\gradio\\blocks.py\", line 1185, in call_function\n",
      "    prediction = await anyio.to_thread.run_sync(\n",
      "  File \"c:\\Users\\AezersX\\anaconda3\\envs\\tensorflow\\lib\\site-packages\\anyio\\to_thread.py\", line 33, in run_sync\n",
      "    return await get_asynclib().run_sync_in_worker_thread(\n",
      "  File \"c:\\Users\\AezersX\\anaconda3\\envs\\tensorflow\\lib\\site-packages\\anyio\\_backends\\_asyncio.py\", line 877, in run_sync_in_worker_thread\n",
      "    return await future\n",
      "  File \"c:\\Users\\AezersX\\anaconda3\\envs\\tensorflow\\lib\\site-packages\\anyio\\_backends\\_asyncio.py\", line 807, in run\n",
      "    result = context.run(func, *args)\n",
      "  File \"c:\\Users\\AezersX\\anaconda3\\envs\\tensorflow\\lib\\site-packages\\gradio\\utils.py\", line 661, in wrapper\n",
      "    response = f(*args, **kwargs)\n",
      "  File \"C:\\Users\\AezersX\\AppData\\Local\\Temp\\ipykernel_23184\\1285878445.py\", line 4, in classify_image\n",
      "    img = img.reshape(1, 28, 28, 1)\n",
      "AttributeError: 'NoneType' object has no attribute 'reshape'\n"
     ]
    },
    {
     "name": "stdout",
     "output_type": "stream",
     "text": [
      "1/1 [==============================] - 0s 17ms/step\n",
      "1/1 [==============================] - 0s 17ms/step\n"
     ]
    },
    {
     "name": "stderr",
     "output_type": "stream",
     "text": [
      "Traceback (most recent call last):\n",
      "  File \"c:\\Users\\AezersX\\anaconda3\\envs\\tensorflow\\lib\\site-packages\\gradio\\routes.py\", line 534, in predict\n",
      "    output = await route_utils.call_process_api(\n",
      "  File \"c:\\Users\\AezersX\\anaconda3\\envs\\tensorflow\\lib\\site-packages\\gradio\\route_utils.py\", line 226, in call_process_api\n",
      "    output = await app.get_blocks().process_api(\n",
      "  File \"c:\\Users\\AezersX\\anaconda3\\envs\\tensorflow\\lib\\site-packages\\gradio\\blocks.py\", line 1550, in process_api\n",
      "    result = await self.call_function(\n",
      "  File \"c:\\Users\\AezersX\\anaconda3\\envs\\tensorflow\\lib\\site-packages\\gradio\\blocks.py\", line 1185, in call_function\n",
      "    prediction = await anyio.to_thread.run_sync(\n",
      "  File \"c:\\Users\\AezersX\\anaconda3\\envs\\tensorflow\\lib\\site-packages\\anyio\\to_thread.py\", line 33, in run_sync\n",
      "    return await get_asynclib().run_sync_in_worker_thread(\n",
      "  File \"c:\\Users\\AezersX\\anaconda3\\envs\\tensorflow\\lib\\site-packages\\anyio\\_backends\\_asyncio.py\", line 877, in run_sync_in_worker_thread\n",
      "    return await future\n",
      "  File \"c:\\Users\\AezersX\\anaconda3\\envs\\tensorflow\\lib\\site-packages\\anyio\\_backends\\_asyncio.py\", line 807, in run\n",
      "    result = context.run(func, *args)\n",
      "  File \"c:\\Users\\AezersX\\anaconda3\\envs\\tensorflow\\lib\\site-packages\\gradio\\utils.py\", line 661, in wrapper\n",
      "    response = f(*args, **kwargs)\n",
      "  File \"C:\\Users\\AezersX\\AppData\\Local\\Temp\\ipykernel_23184\\1285878445.py\", line 4, in classify_image\n",
      "    img = img.reshape(1, 28, 28, 1)\n",
      "AttributeError: 'NoneType' object has no attribute 'reshape'\n"
     ]
    },
    {
     "name": "stdout",
     "output_type": "stream",
     "text": [
      "1/1 [==============================] - 0s 27ms/step\n",
      "1/1 [==============================] - 0s 24ms/step\n"
     ]
    },
    {
     "name": "stderr",
     "output_type": "stream",
     "text": [
      "Traceback (most recent call last):\n",
      "  File \"c:\\Users\\AezersX\\anaconda3\\envs\\tensorflow\\lib\\site-packages\\gradio\\routes.py\", line 534, in predict\n",
      "    output = await route_utils.call_process_api(\n",
      "  File \"c:\\Users\\AezersX\\anaconda3\\envs\\tensorflow\\lib\\site-packages\\gradio\\route_utils.py\", line 226, in call_process_api\n",
      "    output = await app.get_blocks().process_api(\n",
      "  File \"c:\\Users\\AezersX\\anaconda3\\envs\\tensorflow\\lib\\site-packages\\gradio\\blocks.py\", line 1550, in process_api\n",
      "    result = await self.call_function(\n",
      "  File \"c:\\Users\\AezersX\\anaconda3\\envs\\tensorflow\\lib\\site-packages\\gradio\\blocks.py\", line 1185, in call_function\n",
      "    prediction = await anyio.to_thread.run_sync(\n",
      "  File \"c:\\Users\\AezersX\\anaconda3\\envs\\tensorflow\\lib\\site-packages\\anyio\\to_thread.py\", line 33, in run_sync\n",
      "    return await get_asynclib().run_sync_in_worker_thread(\n",
      "  File \"c:\\Users\\AezersX\\anaconda3\\envs\\tensorflow\\lib\\site-packages\\anyio\\_backends\\_asyncio.py\", line 877, in run_sync_in_worker_thread\n",
      "    return await future\n",
      "  File \"c:\\Users\\AezersX\\anaconda3\\envs\\tensorflow\\lib\\site-packages\\anyio\\_backends\\_asyncio.py\", line 807, in run\n",
      "    result = context.run(func, *args)\n",
      "  File \"c:\\Users\\AezersX\\anaconda3\\envs\\tensorflow\\lib\\site-packages\\gradio\\utils.py\", line 661, in wrapper\n",
      "    response = f(*args, **kwargs)\n",
      "  File \"C:\\Users\\AezersX\\AppData\\Local\\Temp\\ipykernel_23184\\1285878445.py\", line 4, in classify_image\n",
      "    img = img.reshape(1, 28, 28, 1)\n",
      "AttributeError: 'NoneType' object has no attribute 'reshape'\n"
     ]
    },
    {
     "name": "stdout",
     "output_type": "stream",
     "text": [
      "1/1 [==============================] - 0s 15ms/step\n"
     ]
    },
    {
     "name": "stderr",
     "output_type": "stream",
     "text": [
      "Traceback (most recent call last):\n",
      "  File \"c:\\Users\\AezersX\\anaconda3\\envs\\tensorflow\\lib\\site-packages\\gradio\\routes.py\", line 534, in predict\n",
      "    output = await route_utils.call_process_api(\n",
      "  File \"c:\\Users\\AezersX\\anaconda3\\envs\\tensorflow\\lib\\site-packages\\gradio\\route_utils.py\", line 226, in call_process_api\n",
      "    output = await app.get_blocks().process_api(\n",
      "  File \"c:\\Users\\AezersX\\anaconda3\\envs\\tensorflow\\lib\\site-packages\\gradio\\blocks.py\", line 1550, in process_api\n",
      "    result = await self.call_function(\n",
      "  File \"c:\\Users\\AezersX\\anaconda3\\envs\\tensorflow\\lib\\site-packages\\gradio\\blocks.py\", line 1185, in call_function\n",
      "    prediction = await anyio.to_thread.run_sync(\n",
      "  File \"c:\\Users\\AezersX\\anaconda3\\envs\\tensorflow\\lib\\site-packages\\anyio\\to_thread.py\", line 33, in run_sync\n",
      "    return await get_asynclib().run_sync_in_worker_thread(\n",
      "  File \"c:\\Users\\AezersX\\anaconda3\\envs\\tensorflow\\lib\\site-packages\\anyio\\_backends\\_asyncio.py\", line 877, in run_sync_in_worker_thread\n",
      "    return await future\n",
      "  File \"c:\\Users\\AezersX\\anaconda3\\envs\\tensorflow\\lib\\site-packages\\anyio\\_backends\\_asyncio.py\", line 807, in run\n",
      "    result = context.run(func, *args)\n",
      "  File \"c:\\Users\\AezersX\\anaconda3\\envs\\tensorflow\\lib\\site-packages\\gradio\\utils.py\", line 661, in wrapper\n",
      "    response = f(*args, **kwargs)\n",
      "  File \"C:\\Users\\AezersX\\AppData\\Local\\Temp\\ipykernel_23184\\1285878445.py\", line 4, in classify_image\n",
      "    img = img.reshape(1, 28, 28, 1)\n",
      "AttributeError: 'NoneType' object has no attribute 'reshape'\n"
     ]
    },
    {
     "name": "stdout",
     "output_type": "stream",
     "text": [
      "1/1 [==============================] - 0s 17ms/step\n"
     ]
    },
    {
     "name": "stderr",
     "output_type": "stream",
     "text": [
      "Traceback (most recent call last):\n",
      "  File \"c:\\Users\\AezersX\\anaconda3\\envs\\tensorflow\\lib\\site-packages\\gradio\\routes.py\", line 534, in predict\n",
      "    output = await route_utils.call_process_api(\n",
      "  File \"c:\\Users\\AezersX\\anaconda3\\envs\\tensorflow\\lib\\site-packages\\gradio\\route_utils.py\", line 226, in call_process_api\n",
      "    output = await app.get_blocks().process_api(\n",
      "  File \"c:\\Users\\AezersX\\anaconda3\\envs\\tensorflow\\lib\\site-packages\\gradio\\blocks.py\", line 1550, in process_api\n",
      "    result = await self.call_function(\n",
      "  File \"c:\\Users\\AezersX\\anaconda3\\envs\\tensorflow\\lib\\site-packages\\gradio\\blocks.py\", line 1185, in call_function\n",
      "    prediction = await anyio.to_thread.run_sync(\n",
      "  File \"c:\\Users\\AezersX\\anaconda3\\envs\\tensorflow\\lib\\site-packages\\anyio\\to_thread.py\", line 33, in run_sync\n",
      "    return await get_asynclib().run_sync_in_worker_thread(\n",
      "  File \"c:\\Users\\AezersX\\anaconda3\\envs\\tensorflow\\lib\\site-packages\\anyio\\_backends\\_asyncio.py\", line 877, in run_sync_in_worker_thread\n",
      "    return await future\n",
      "  File \"c:\\Users\\AezersX\\anaconda3\\envs\\tensorflow\\lib\\site-packages\\anyio\\_backends\\_asyncio.py\", line 807, in run\n",
      "    result = context.run(func, *args)\n",
      "  File \"c:\\Users\\AezersX\\anaconda3\\envs\\tensorflow\\lib\\site-packages\\gradio\\utils.py\", line 661, in wrapper\n",
      "    response = f(*args, **kwargs)\n",
      "  File \"C:\\Users\\AezersX\\AppData\\Local\\Temp\\ipykernel_23184\\1285878445.py\", line 4, in classify_image\n",
      "    img = img.reshape(1, 28, 28, 1)\n",
      "AttributeError: 'NoneType' object has no attribute 'reshape'\n"
     ]
    },
    {
     "name": "stdout",
     "output_type": "stream",
     "text": [
      "1/1 [==============================] - 0s 17ms/step\n"
     ]
    },
    {
     "name": "stderr",
     "output_type": "stream",
     "text": [
      "Traceback (most recent call last):\n",
      "  File \"c:\\Users\\AezersX\\anaconda3\\envs\\tensorflow\\lib\\site-packages\\gradio\\routes.py\", line 534, in predict\n",
      "    output = await route_utils.call_process_api(\n",
      "  File \"c:\\Users\\AezersX\\anaconda3\\envs\\tensorflow\\lib\\site-packages\\gradio\\route_utils.py\", line 226, in call_process_api\n",
      "    output = await app.get_blocks().process_api(\n",
      "  File \"c:\\Users\\AezersX\\anaconda3\\envs\\tensorflow\\lib\\site-packages\\gradio\\blocks.py\", line 1550, in process_api\n",
      "    result = await self.call_function(\n",
      "  File \"c:\\Users\\AezersX\\anaconda3\\envs\\tensorflow\\lib\\site-packages\\gradio\\blocks.py\", line 1185, in call_function\n",
      "    prediction = await anyio.to_thread.run_sync(\n",
      "  File \"c:\\Users\\AezersX\\anaconda3\\envs\\tensorflow\\lib\\site-packages\\anyio\\to_thread.py\", line 33, in run_sync\n",
      "    return await get_asynclib().run_sync_in_worker_thread(\n",
      "  File \"c:\\Users\\AezersX\\anaconda3\\envs\\tensorflow\\lib\\site-packages\\anyio\\_backends\\_asyncio.py\", line 877, in run_sync_in_worker_thread\n",
      "    return await future\n",
      "  File \"c:\\Users\\AezersX\\anaconda3\\envs\\tensorflow\\lib\\site-packages\\anyio\\_backends\\_asyncio.py\", line 807, in run\n",
      "    result = context.run(func, *args)\n",
      "  File \"c:\\Users\\AezersX\\anaconda3\\envs\\tensorflow\\lib\\site-packages\\gradio\\utils.py\", line 661, in wrapper\n",
      "    response = f(*args, **kwargs)\n",
      "  File \"C:\\Users\\AezersX\\AppData\\Local\\Temp\\ipykernel_23184\\1285878445.py\", line 4, in classify_image\n",
      "    img = img.reshape(1, 28, 28, 1)\n",
      "AttributeError: 'NoneType' object has no attribute 'reshape'\n"
     ]
    },
    {
     "name": "stdout",
     "output_type": "stream",
     "text": [
      "1/1 [==============================] - 0s 16ms/step\n"
     ]
    },
    {
     "name": "stderr",
     "output_type": "stream",
     "text": [
      "Traceback (most recent call last):\n",
      "  File \"c:\\Users\\AezersX\\anaconda3\\envs\\tensorflow\\lib\\site-packages\\gradio\\routes.py\", line 534, in predict\n",
      "    output = await route_utils.call_process_api(\n",
      "  File \"c:\\Users\\AezersX\\anaconda3\\envs\\tensorflow\\lib\\site-packages\\gradio\\route_utils.py\", line 226, in call_process_api\n",
      "    output = await app.get_blocks().process_api(\n",
      "  File \"c:\\Users\\AezersX\\anaconda3\\envs\\tensorflow\\lib\\site-packages\\gradio\\blocks.py\", line 1550, in process_api\n",
      "    result = await self.call_function(\n",
      "  File \"c:\\Users\\AezersX\\anaconda3\\envs\\tensorflow\\lib\\site-packages\\gradio\\blocks.py\", line 1185, in call_function\n",
      "    prediction = await anyio.to_thread.run_sync(\n",
      "  File \"c:\\Users\\AezersX\\anaconda3\\envs\\tensorflow\\lib\\site-packages\\anyio\\to_thread.py\", line 33, in run_sync\n",
      "    return await get_asynclib().run_sync_in_worker_thread(\n",
      "  File \"c:\\Users\\AezersX\\anaconda3\\envs\\tensorflow\\lib\\site-packages\\anyio\\_backends\\_asyncio.py\", line 877, in run_sync_in_worker_thread\n",
      "    return await future\n",
      "  File \"c:\\Users\\AezersX\\anaconda3\\envs\\tensorflow\\lib\\site-packages\\anyio\\_backends\\_asyncio.py\", line 807, in run\n",
      "    result = context.run(func, *args)\n",
      "  File \"c:\\Users\\AezersX\\anaconda3\\envs\\tensorflow\\lib\\site-packages\\gradio\\utils.py\", line 661, in wrapper\n",
      "    response = f(*args, **kwargs)\n",
      "  File \"C:\\Users\\AezersX\\AppData\\Local\\Temp\\ipykernel_23184\\1285878445.py\", line 4, in classify_image\n",
      "    img = img.reshape(1, 28, 28, 1)\n",
      "AttributeError: 'NoneType' object has no attribute 'reshape'\n"
     ]
    },
    {
     "name": "stdout",
     "output_type": "stream",
     "text": [
      "1/1 [==============================] - 0s 16ms/step\n"
     ]
    },
    {
     "name": "stderr",
     "output_type": "stream",
     "text": [
      "Traceback (most recent call last):\n",
      "  File \"c:\\Users\\AezersX\\anaconda3\\envs\\tensorflow\\lib\\site-packages\\gradio\\routes.py\", line 534, in predict\n",
      "    output = await route_utils.call_process_api(\n",
      "  File \"c:\\Users\\AezersX\\anaconda3\\envs\\tensorflow\\lib\\site-packages\\gradio\\route_utils.py\", line 226, in call_process_api\n",
      "    output = await app.get_blocks().process_api(\n",
      "  File \"c:\\Users\\AezersX\\anaconda3\\envs\\tensorflow\\lib\\site-packages\\gradio\\blocks.py\", line 1550, in process_api\n",
      "    result = await self.call_function(\n",
      "  File \"c:\\Users\\AezersX\\anaconda3\\envs\\tensorflow\\lib\\site-packages\\gradio\\blocks.py\", line 1185, in call_function\n",
      "    prediction = await anyio.to_thread.run_sync(\n",
      "  File \"c:\\Users\\AezersX\\anaconda3\\envs\\tensorflow\\lib\\site-packages\\anyio\\to_thread.py\", line 33, in run_sync\n",
      "    return await get_asynclib().run_sync_in_worker_thread(\n",
      "  File \"c:\\Users\\AezersX\\anaconda3\\envs\\tensorflow\\lib\\site-packages\\anyio\\_backends\\_asyncio.py\", line 877, in run_sync_in_worker_thread\n",
      "    return await future\n",
      "  File \"c:\\Users\\AezersX\\anaconda3\\envs\\tensorflow\\lib\\site-packages\\anyio\\_backends\\_asyncio.py\", line 807, in run\n",
      "    result = context.run(func, *args)\n",
      "  File \"c:\\Users\\AezersX\\anaconda3\\envs\\tensorflow\\lib\\site-packages\\gradio\\utils.py\", line 661, in wrapper\n",
      "    response = f(*args, **kwargs)\n",
      "  File \"C:\\Users\\AezersX\\AppData\\Local\\Temp\\ipykernel_23184\\1285878445.py\", line 4, in classify_image\n",
      "    img = img.reshape(1, 28, 28, 1)\n",
      "AttributeError: 'NoneType' object has no attribute 'reshape'\n"
     ]
    },
    {
     "name": "stdout",
     "output_type": "stream",
     "text": [
      "1/1 [==============================] - 0s 15ms/step\n"
     ]
    },
    {
     "name": "stderr",
     "output_type": "stream",
     "text": [
      "Traceback (most recent call last):\n",
      "  File \"c:\\Users\\AezersX\\anaconda3\\envs\\tensorflow\\lib\\site-packages\\gradio\\routes.py\", line 534, in predict\n",
      "    output = await route_utils.call_process_api(\n",
      "  File \"c:\\Users\\AezersX\\anaconda3\\envs\\tensorflow\\lib\\site-packages\\gradio\\route_utils.py\", line 226, in call_process_api\n",
      "    output = await app.get_blocks().process_api(\n",
      "  File \"c:\\Users\\AezersX\\anaconda3\\envs\\tensorflow\\lib\\site-packages\\gradio\\blocks.py\", line 1550, in process_api\n",
      "    result = await self.call_function(\n",
      "  File \"c:\\Users\\AezersX\\anaconda3\\envs\\tensorflow\\lib\\site-packages\\gradio\\blocks.py\", line 1185, in call_function\n",
      "    prediction = await anyio.to_thread.run_sync(\n",
      "  File \"c:\\Users\\AezersX\\anaconda3\\envs\\tensorflow\\lib\\site-packages\\anyio\\to_thread.py\", line 33, in run_sync\n",
      "    return await get_asynclib().run_sync_in_worker_thread(\n",
      "  File \"c:\\Users\\AezersX\\anaconda3\\envs\\tensorflow\\lib\\site-packages\\anyio\\_backends\\_asyncio.py\", line 877, in run_sync_in_worker_thread\n",
      "    return await future\n",
      "  File \"c:\\Users\\AezersX\\anaconda3\\envs\\tensorflow\\lib\\site-packages\\anyio\\_backends\\_asyncio.py\", line 807, in run\n",
      "    result = context.run(func, *args)\n",
      "  File \"c:\\Users\\AezersX\\anaconda3\\envs\\tensorflow\\lib\\site-packages\\gradio\\utils.py\", line 661, in wrapper\n",
      "    response = f(*args, **kwargs)\n",
      "  File \"C:\\Users\\AezersX\\AppData\\Local\\Temp\\ipykernel_23184\\1285878445.py\", line 4, in classify_image\n",
      "    img = img.reshape(1, 28, 28, 1)\n",
      "AttributeError: 'NoneType' object has no attribute 'reshape'\n"
     ]
    },
    {
     "name": "stdout",
     "output_type": "stream",
     "text": [
      "1/1 [==============================] - 0s 17ms/step\n"
     ]
    },
    {
     "name": "stderr",
     "output_type": "stream",
     "text": [
      "Traceback (most recent call last):\n",
      "  File \"c:\\Users\\AezersX\\anaconda3\\envs\\tensorflow\\lib\\site-packages\\gradio\\routes.py\", line 534, in predict\n",
      "    output = await route_utils.call_process_api(\n",
      "  File \"c:\\Users\\AezersX\\anaconda3\\envs\\tensorflow\\lib\\site-packages\\gradio\\route_utils.py\", line 226, in call_process_api\n",
      "    output = await app.get_blocks().process_api(\n",
      "  File \"c:\\Users\\AezersX\\anaconda3\\envs\\tensorflow\\lib\\site-packages\\gradio\\blocks.py\", line 1550, in process_api\n",
      "    result = await self.call_function(\n",
      "  File \"c:\\Users\\AezersX\\anaconda3\\envs\\tensorflow\\lib\\site-packages\\gradio\\blocks.py\", line 1185, in call_function\n",
      "    prediction = await anyio.to_thread.run_sync(\n",
      "  File \"c:\\Users\\AezersX\\anaconda3\\envs\\tensorflow\\lib\\site-packages\\anyio\\to_thread.py\", line 33, in run_sync\n",
      "    return await get_asynclib().run_sync_in_worker_thread(\n",
      "  File \"c:\\Users\\AezersX\\anaconda3\\envs\\tensorflow\\lib\\site-packages\\anyio\\_backends\\_asyncio.py\", line 877, in run_sync_in_worker_thread\n",
      "    return await future\n",
      "  File \"c:\\Users\\AezersX\\anaconda3\\envs\\tensorflow\\lib\\site-packages\\anyio\\_backends\\_asyncio.py\", line 807, in run\n",
      "    result = context.run(func, *args)\n",
      "  File \"c:\\Users\\AezersX\\anaconda3\\envs\\tensorflow\\lib\\site-packages\\gradio\\utils.py\", line 661, in wrapper\n",
      "    response = f(*args, **kwargs)\n",
      "  File \"C:\\Users\\AezersX\\AppData\\Local\\Temp\\ipykernel_23184\\1285878445.py\", line 4, in classify_image\n",
      "    img = img.reshape(1, 28, 28, 1)\n",
      "AttributeError: 'NoneType' object has no attribute 'reshape'\n"
     ]
    },
    {
     "name": "stdout",
     "output_type": "stream",
     "text": [
      "1/1 [==============================] - 0s 19ms/step\n"
     ]
    },
    {
     "name": "stderr",
     "output_type": "stream",
     "text": [
      "Traceback (most recent call last):\n",
      "  File \"c:\\Users\\AezersX\\anaconda3\\envs\\tensorflow\\lib\\site-packages\\gradio\\routes.py\", line 534, in predict\n",
      "    output = await route_utils.call_process_api(\n",
      "  File \"c:\\Users\\AezersX\\anaconda3\\envs\\tensorflow\\lib\\site-packages\\gradio\\route_utils.py\", line 226, in call_process_api\n",
      "    output = await app.get_blocks().process_api(\n",
      "  File \"c:\\Users\\AezersX\\anaconda3\\envs\\tensorflow\\lib\\site-packages\\gradio\\blocks.py\", line 1550, in process_api\n",
      "    result = await self.call_function(\n",
      "  File \"c:\\Users\\AezersX\\anaconda3\\envs\\tensorflow\\lib\\site-packages\\gradio\\blocks.py\", line 1185, in call_function\n",
      "    prediction = await anyio.to_thread.run_sync(\n",
      "  File \"c:\\Users\\AezersX\\anaconda3\\envs\\tensorflow\\lib\\site-packages\\anyio\\to_thread.py\", line 33, in run_sync\n",
      "    return await get_asynclib().run_sync_in_worker_thread(\n",
      "  File \"c:\\Users\\AezersX\\anaconda3\\envs\\tensorflow\\lib\\site-packages\\anyio\\_backends\\_asyncio.py\", line 877, in run_sync_in_worker_thread\n",
      "    return await future\n",
      "  File \"c:\\Users\\AezersX\\anaconda3\\envs\\tensorflow\\lib\\site-packages\\anyio\\_backends\\_asyncio.py\", line 807, in run\n",
      "    result = context.run(func, *args)\n",
      "  File \"c:\\Users\\AezersX\\anaconda3\\envs\\tensorflow\\lib\\site-packages\\gradio\\utils.py\", line 661, in wrapper\n",
      "    response = f(*args, **kwargs)\n",
      "  File \"C:\\Users\\AezersX\\AppData\\Local\\Temp\\ipykernel_23184\\1285878445.py\", line 4, in classify_image\n",
      "    img = img.reshape(1, 28, 28, 1)\n",
      "AttributeError: 'NoneType' object has no attribute 'reshape'\n"
     ]
    },
    {
     "name": "stdout",
     "output_type": "stream",
     "text": [
      "1/1 [==============================] - 0s 18ms/step\n"
     ]
    },
    {
     "name": "stderr",
     "output_type": "stream",
     "text": [
      "Traceback (most recent call last):\n",
      "  File \"c:\\Users\\AezersX\\anaconda3\\envs\\tensorflow\\lib\\site-packages\\gradio\\routes.py\", line 534, in predict\n",
      "    output = await route_utils.call_process_api(\n",
      "  File \"c:\\Users\\AezersX\\anaconda3\\envs\\tensorflow\\lib\\site-packages\\gradio\\route_utils.py\", line 226, in call_process_api\n",
      "    output = await app.get_blocks().process_api(\n",
      "  File \"c:\\Users\\AezersX\\anaconda3\\envs\\tensorflow\\lib\\site-packages\\gradio\\blocks.py\", line 1550, in process_api\n",
      "    result = await self.call_function(\n",
      "  File \"c:\\Users\\AezersX\\anaconda3\\envs\\tensorflow\\lib\\site-packages\\gradio\\blocks.py\", line 1185, in call_function\n",
      "    prediction = await anyio.to_thread.run_sync(\n",
      "  File \"c:\\Users\\AezersX\\anaconda3\\envs\\tensorflow\\lib\\site-packages\\anyio\\to_thread.py\", line 33, in run_sync\n",
      "    return await get_asynclib().run_sync_in_worker_thread(\n",
      "  File \"c:\\Users\\AezersX\\anaconda3\\envs\\tensorflow\\lib\\site-packages\\anyio\\_backends\\_asyncio.py\", line 877, in run_sync_in_worker_thread\n",
      "    return await future\n",
      "  File \"c:\\Users\\AezersX\\anaconda3\\envs\\tensorflow\\lib\\site-packages\\anyio\\_backends\\_asyncio.py\", line 807, in run\n",
      "    result = context.run(func, *args)\n",
      "  File \"c:\\Users\\AezersX\\anaconda3\\envs\\tensorflow\\lib\\site-packages\\gradio\\utils.py\", line 661, in wrapper\n",
      "    response = f(*args, **kwargs)\n",
      "  File \"C:\\Users\\AezersX\\AppData\\Local\\Temp\\ipykernel_23184\\1285878445.py\", line 4, in classify_image\n",
      "    img = img.reshape(1, 28, 28, 1)\n",
      "AttributeError: 'NoneType' object has no attribute 'reshape'\n"
     ]
    },
    {
     "name": "stdout",
     "output_type": "stream",
     "text": [
      "1/1 [==============================] - 0s 17ms/step\n"
     ]
    },
    {
     "name": "stderr",
     "output_type": "stream",
     "text": [
      "Traceback (most recent call last):\n",
      "  File \"c:\\Users\\AezersX\\anaconda3\\envs\\tensorflow\\lib\\site-packages\\gradio\\routes.py\", line 534, in predict\n",
      "    output = await route_utils.call_process_api(\n",
      "  File \"c:\\Users\\AezersX\\anaconda3\\envs\\tensorflow\\lib\\site-packages\\gradio\\route_utils.py\", line 226, in call_process_api\n",
      "    output = await app.get_blocks().process_api(\n",
      "  File \"c:\\Users\\AezersX\\anaconda3\\envs\\tensorflow\\lib\\site-packages\\gradio\\blocks.py\", line 1550, in process_api\n",
      "    result = await self.call_function(\n",
      "  File \"c:\\Users\\AezersX\\anaconda3\\envs\\tensorflow\\lib\\site-packages\\gradio\\blocks.py\", line 1185, in call_function\n",
      "    prediction = await anyio.to_thread.run_sync(\n",
      "  File \"c:\\Users\\AezersX\\anaconda3\\envs\\tensorflow\\lib\\site-packages\\anyio\\to_thread.py\", line 33, in run_sync\n",
      "    return await get_asynclib().run_sync_in_worker_thread(\n",
      "  File \"c:\\Users\\AezersX\\anaconda3\\envs\\tensorflow\\lib\\site-packages\\anyio\\_backends\\_asyncio.py\", line 877, in run_sync_in_worker_thread\n",
      "    return await future\n",
      "  File \"c:\\Users\\AezersX\\anaconda3\\envs\\tensorflow\\lib\\site-packages\\anyio\\_backends\\_asyncio.py\", line 807, in run\n",
      "    result = context.run(func, *args)\n",
      "  File \"c:\\Users\\AezersX\\anaconda3\\envs\\tensorflow\\lib\\site-packages\\gradio\\utils.py\", line 661, in wrapper\n",
      "    response = f(*args, **kwargs)\n",
      "  File \"C:\\Users\\AezersX\\AppData\\Local\\Temp\\ipykernel_23184\\1285878445.py\", line 4, in classify_image\n",
      "    img = img.reshape(1, 28, 28, 1)\n",
      "AttributeError: 'NoneType' object has no attribute 'reshape'\n"
     ]
    },
    {
     "name": "stdout",
     "output_type": "stream",
     "text": [
      "1/1 [==============================] - 0s 20ms/step\n",
      "1/1 [==============================] - 0s 16ms/step\n"
     ]
    },
    {
     "name": "stderr",
     "output_type": "stream",
     "text": [
      "Traceback (most recent call last):\n",
      "  File \"c:\\Users\\AezersX\\anaconda3\\envs\\tensorflow\\lib\\site-packages\\gradio\\routes.py\", line 534, in predict\n",
      "    output = await route_utils.call_process_api(\n",
      "  File \"c:\\Users\\AezersX\\anaconda3\\envs\\tensorflow\\lib\\site-packages\\gradio\\route_utils.py\", line 226, in call_process_api\n",
      "    output = await app.get_blocks().process_api(\n",
      "  File \"c:\\Users\\AezersX\\anaconda3\\envs\\tensorflow\\lib\\site-packages\\gradio\\blocks.py\", line 1550, in process_api\n",
      "    result = await self.call_function(\n",
      "  File \"c:\\Users\\AezersX\\anaconda3\\envs\\tensorflow\\lib\\site-packages\\gradio\\blocks.py\", line 1185, in call_function\n",
      "    prediction = await anyio.to_thread.run_sync(\n",
      "  File \"c:\\Users\\AezersX\\anaconda3\\envs\\tensorflow\\lib\\site-packages\\anyio\\to_thread.py\", line 33, in run_sync\n",
      "    return await get_asynclib().run_sync_in_worker_thread(\n",
      "  File \"c:\\Users\\AezersX\\anaconda3\\envs\\tensorflow\\lib\\site-packages\\anyio\\_backends\\_asyncio.py\", line 877, in run_sync_in_worker_thread\n",
      "    return await future\n",
      "  File \"c:\\Users\\AezersX\\anaconda3\\envs\\tensorflow\\lib\\site-packages\\anyio\\_backends\\_asyncio.py\", line 807, in run\n",
      "    result = context.run(func, *args)\n",
      "  File \"c:\\Users\\AezersX\\anaconda3\\envs\\tensorflow\\lib\\site-packages\\gradio\\utils.py\", line 661, in wrapper\n",
      "    response = f(*args, **kwargs)\n",
      "  File \"C:\\Users\\AezersX\\AppData\\Local\\Temp\\ipykernel_23184\\1285878445.py\", line 4, in classify_image\n",
      "    img = img.reshape(1, 28, 28, 1)\n",
      "AttributeError: 'NoneType' object has no attribute 'reshape'\n"
     ]
    },
    {
     "name": "stdout",
     "output_type": "stream",
     "text": [
      "1/1 [==============================] - 0s 16ms/step\n",
      "1/1 [==============================] - 0s 15ms/step\n"
     ]
    },
    {
     "name": "stderr",
     "output_type": "stream",
     "text": [
      "Traceback (most recent call last):\n",
      "  File \"c:\\Users\\AezersX\\anaconda3\\envs\\tensorflow\\lib\\site-packages\\gradio\\routes.py\", line 534, in predict\n",
      "    output = await route_utils.call_process_api(\n",
      "  File \"c:\\Users\\AezersX\\anaconda3\\envs\\tensorflow\\lib\\site-packages\\gradio\\route_utils.py\", line 226, in call_process_api\n",
      "    output = await app.get_blocks().process_api(\n",
      "  File \"c:\\Users\\AezersX\\anaconda3\\envs\\tensorflow\\lib\\site-packages\\gradio\\blocks.py\", line 1550, in process_api\n",
      "    result = await self.call_function(\n",
      "  File \"c:\\Users\\AezersX\\anaconda3\\envs\\tensorflow\\lib\\site-packages\\gradio\\blocks.py\", line 1185, in call_function\n",
      "    prediction = await anyio.to_thread.run_sync(\n",
      "  File \"c:\\Users\\AezersX\\anaconda3\\envs\\tensorflow\\lib\\site-packages\\anyio\\to_thread.py\", line 33, in run_sync\n",
      "    return await get_asynclib().run_sync_in_worker_thread(\n",
      "  File \"c:\\Users\\AezersX\\anaconda3\\envs\\tensorflow\\lib\\site-packages\\anyio\\_backends\\_asyncio.py\", line 877, in run_sync_in_worker_thread\n",
      "    return await future\n",
      "  File \"c:\\Users\\AezersX\\anaconda3\\envs\\tensorflow\\lib\\site-packages\\anyio\\_backends\\_asyncio.py\", line 807, in run\n",
      "    result = context.run(func, *args)\n",
      "  File \"c:\\Users\\AezersX\\anaconda3\\envs\\tensorflow\\lib\\site-packages\\gradio\\utils.py\", line 661, in wrapper\n",
      "    response = f(*args, **kwargs)\n",
      "  File \"C:\\Users\\AezersX\\AppData\\Local\\Temp\\ipykernel_23184\\1285878445.py\", line 4, in classify_image\n",
      "    img = img.reshape(1, 28, 28, 1)\n",
      "AttributeError: 'NoneType' object has no attribute 'reshape'\n"
     ]
    },
    {
     "name": "stdout",
     "output_type": "stream",
     "text": [
      "1/1 [==============================] - 0s 15ms/step\n"
     ]
    },
    {
     "name": "stderr",
     "output_type": "stream",
     "text": [
      "Traceback (most recent call last):\n",
      "  File \"c:\\Users\\AezersX\\anaconda3\\envs\\tensorflow\\lib\\site-packages\\gradio\\routes.py\", line 534, in predict\n",
      "    output = await route_utils.call_process_api(\n",
      "  File \"c:\\Users\\AezersX\\anaconda3\\envs\\tensorflow\\lib\\site-packages\\gradio\\route_utils.py\", line 226, in call_process_api\n",
      "    output = await app.get_blocks().process_api(\n",
      "  File \"c:\\Users\\AezersX\\anaconda3\\envs\\tensorflow\\lib\\site-packages\\gradio\\blocks.py\", line 1550, in process_api\n",
      "    result = await self.call_function(\n",
      "  File \"c:\\Users\\AezersX\\anaconda3\\envs\\tensorflow\\lib\\site-packages\\gradio\\blocks.py\", line 1185, in call_function\n",
      "    prediction = await anyio.to_thread.run_sync(\n",
      "  File \"c:\\Users\\AezersX\\anaconda3\\envs\\tensorflow\\lib\\site-packages\\anyio\\to_thread.py\", line 33, in run_sync\n",
      "    return await get_asynclib().run_sync_in_worker_thread(\n",
      "  File \"c:\\Users\\AezersX\\anaconda3\\envs\\tensorflow\\lib\\site-packages\\anyio\\_backends\\_asyncio.py\", line 877, in run_sync_in_worker_thread\n",
      "    return await future\n",
      "  File \"c:\\Users\\AezersX\\anaconda3\\envs\\tensorflow\\lib\\site-packages\\anyio\\_backends\\_asyncio.py\", line 807, in run\n",
      "    result = context.run(func, *args)\n",
      "  File \"c:\\Users\\AezersX\\anaconda3\\envs\\tensorflow\\lib\\site-packages\\gradio\\utils.py\", line 661, in wrapper\n",
      "    response = f(*args, **kwargs)\n",
      "  File \"C:\\Users\\AezersX\\AppData\\Local\\Temp\\ipykernel_23184\\1285878445.py\", line 4, in classify_image\n",
      "    img = img.reshape(1, 28, 28, 1)\n",
      "AttributeError: 'NoneType' object has no attribute 'reshape'\n"
     ]
    },
    {
     "name": "stdout",
     "output_type": "stream",
     "text": [
      "1/1 [==============================] - 0s 18ms/step\n"
     ]
    },
    {
     "name": "stderr",
     "output_type": "stream",
     "text": [
      "Traceback (most recent call last):\n",
      "  File \"c:\\Users\\AezersX\\anaconda3\\envs\\tensorflow\\lib\\site-packages\\gradio\\routes.py\", line 534, in predict\n",
      "    output = await route_utils.call_process_api(\n",
      "  File \"c:\\Users\\AezersX\\anaconda3\\envs\\tensorflow\\lib\\site-packages\\gradio\\route_utils.py\", line 226, in call_process_api\n",
      "    output = await app.get_blocks().process_api(\n",
      "  File \"c:\\Users\\AezersX\\anaconda3\\envs\\tensorflow\\lib\\site-packages\\gradio\\blocks.py\", line 1550, in process_api\n",
      "    result = await self.call_function(\n",
      "  File \"c:\\Users\\AezersX\\anaconda3\\envs\\tensorflow\\lib\\site-packages\\gradio\\blocks.py\", line 1185, in call_function\n",
      "    prediction = await anyio.to_thread.run_sync(\n",
      "  File \"c:\\Users\\AezersX\\anaconda3\\envs\\tensorflow\\lib\\site-packages\\anyio\\to_thread.py\", line 33, in run_sync\n",
      "    return await get_asynclib().run_sync_in_worker_thread(\n",
      "  File \"c:\\Users\\AezersX\\anaconda3\\envs\\tensorflow\\lib\\site-packages\\anyio\\_backends\\_asyncio.py\", line 877, in run_sync_in_worker_thread\n",
      "    return await future\n",
      "  File \"c:\\Users\\AezersX\\anaconda3\\envs\\tensorflow\\lib\\site-packages\\anyio\\_backends\\_asyncio.py\", line 807, in run\n",
      "    result = context.run(func, *args)\n",
      "  File \"c:\\Users\\AezersX\\anaconda3\\envs\\tensorflow\\lib\\site-packages\\gradio\\utils.py\", line 661, in wrapper\n",
      "    response = f(*args, **kwargs)\n",
      "  File \"C:\\Users\\AezersX\\AppData\\Local\\Temp\\ipykernel_23184\\1285878445.py\", line 4, in classify_image\n",
      "    img = img.reshape(1, 28, 28, 1)\n",
      "AttributeError: 'NoneType' object has no attribute 'reshape'\n"
     ]
    },
    {
     "name": "stdout",
     "output_type": "stream",
     "text": [
      "1/1 [==============================] - 0s 16ms/step\n"
     ]
    },
    {
     "name": "stderr",
     "output_type": "stream",
     "text": [
      "Traceback (most recent call last):\n",
      "  File \"c:\\Users\\AezersX\\anaconda3\\envs\\tensorflow\\lib\\site-packages\\gradio\\routes.py\", line 534, in predict\n",
      "    output = await route_utils.call_process_api(\n",
      "  File \"c:\\Users\\AezersX\\anaconda3\\envs\\tensorflow\\lib\\site-packages\\gradio\\route_utils.py\", line 226, in call_process_api\n",
      "    output = await app.get_blocks().process_api(\n",
      "  File \"c:\\Users\\AezersX\\anaconda3\\envs\\tensorflow\\lib\\site-packages\\gradio\\blocks.py\", line 1550, in process_api\n",
      "    result = await self.call_function(\n",
      "  File \"c:\\Users\\AezersX\\anaconda3\\envs\\tensorflow\\lib\\site-packages\\gradio\\blocks.py\", line 1185, in call_function\n",
      "    prediction = await anyio.to_thread.run_sync(\n",
      "  File \"c:\\Users\\AezersX\\anaconda3\\envs\\tensorflow\\lib\\site-packages\\anyio\\to_thread.py\", line 33, in run_sync\n",
      "    return await get_asynclib().run_sync_in_worker_thread(\n",
      "  File \"c:\\Users\\AezersX\\anaconda3\\envs\\tensorflow\\lib\\site-packages\\anyio\\_backends\\_asyncio.py\", line 877, in run_sync_in_worker_thread\n",
      "    return await future\n",
      "  File \"c:\\Users\\AezersX\\anaconda3\\envs\\tensorflow\\lib\\site-packages\\anyio\\_backends\\_asyncio.py\", line 807, in run\n",
      "    result = context.run(func, *args)\n",
      "  File \"c:\\Users\\AezersX\\anaconda3\\envs\\tensorflow\\lib\\site-packages\\gradio\\utils.py\", line 661, in wrapper\n",
      "    response = f(*args, **kwargs)\n",
      "  File \"C:\\Users\\AezersX\\AppData\\Local\\Temp\\ipykernel_23184\\1285878445.py\", line 4, in classify_image\n",
      "    img = img.reshape(1, 28, 28, 1)\n",
      "AttributeError: 'NoneType' object has no attribute 'reshape'\n"
     ]
    },
    {
     "name": "stdout",
     "output_type": "stream",
     "text": [
      "1/1 [==============================] - 0s 15ms/step\n"
     ]
    },
    {
     "name": "stderr",
     "output_type": "stream",
     "text": [
      "Traceback (most recent call last):\n",
      "  File \"c:\\Users\\AezersX\\anaconda3\\envs\\tensorflow\\lib\\site-packages\\gradio\\routes.py\", line 534, in predict\n",
      "    output = await route_utils.call_process_api(\n",
      "  File \"c:\\Users\\AezersX\\anaconda3\\envs\\tensorflow\\lib\\site-packages\\gradio\\route_utils.py\", line 226, in call_process_api\n",
      "    output = await app.get_blocks().process_api(\n",
      "  File \"c:\\Users\\AezersX\\anaconda3\\envs\\tensorflow\\lib\\site-packages\\gradio\\blocks.py\", line 1550, in process_api\n",
      "    result = await self.call_function(\n",
      "  File \"c:\\Users\\AezersX\\anaconda3\\envs\\tensorflow\\lib\\site-packages\\gradio\\blocks.py\", line 1185, in call_function\n",
      "    prediction = await anyio.to_thread.run_sync(\n",
      "  File \"c:\\Users\\AezersX\\anaconda3\\envs\\tensorflow\\lib\\site-packages\\anyio\\to_thread.py\", line 33, in run_sync\n",
      "    return await get_asynclib().run_sync_in_worker_thread(\n",
      "  File \"c:\\Users\\AezersX\\anaconda3\\envs\\tensorflow\\lib\\site-packages\\anyio\\_backends\\_asyncio.py\", line 877, in run_sync_in_worker_thread\n",
      "    return await future\n",
      "  File \"c:\\Users\\AezersX\\anaconda3\\envs\\tensorflow\\lib\\site-packages\\anyio\\_backends\\_asyncio.py\", line 807, in run\n",
      "    result = context.run(func, *args)\n",
      "  File \"c:\\Users\\AezersX\\anaconda3\\envs\\tensorflow\\lib\\site-packages\\gradio\\utils.py\", line 661, in wrapper\n",
      "    response = f(*args, **kwargs)\n",
      "  File \"C:\\Users\\AezersX\\AppData\\Local\\Temp\\ipykernel_23184\\1285878445.py\", line 4, in classify_image\n",
      "    img = img.reshape(1, 28, 28, 1)\n",
      "AttributeError: 'NoneType' object has no attribute 'reshape'\n"
     ]
    },
    {
     "name": "stdout",
     "output_type": "stream",
     "text": [
      "1/1 [==============================] - 0s 16ms/step\n",
      "1/1 [==============================] - 0s 16ms/step\n",
      "1/1 [==============================] - 0s 17ms/step\n"
     ]
    },
    {
     "name": "stderr",
     "output_type": "stream",
     "text": [
      "Traceback (most recent call last):\n",
      "  File \"c:\\Users\\AezersX\\anaconda3\\envs\\tensorflow\\lib\\site-packages\\gradio\\routes.py\", line 534, in predict\n",
      "    output = await route_utils.call_process_api(\n",
      "  File \"c:\\Users\\AezersX\\anaconda3\\envs\\tensorflow\\lib\\site-packages\\gradio\\route_utils.py\", line 226, in call_process_api\n",
      "    output = await app.get_blocks().process_api(\n",
      "  File \"c:\\Users\\AezersX\\anaconda3\\envs\\tensorflow\\lib\\site-packages\\gradio\\blocks.py\", line 1550, in process_api\n",
      "    result = await self.call_function(\n",
      "  File \"c:\\Users\\AezersX\\anaconda3\\envs\\tensorflow\\lib\\site-packages\\gradio\\blocks.py\", line 1185, in call_function\n",
      "    prediction = await anyio.to_thread.run_sync(\n",
      "  File \"c:\\Users\\AezersX\\anaconda3\\envs\\tensorflow\\lib\\site-packages\\anyio\\to_thread.py\", line 33, in run_sync\n",
      "    return await get_asynclib().run_sync_in_worker_thread(\n",
      "  File \"c:\\Users\\AezersX\\anaconda3\\envs\\tensorflow\\lib\\site-packages\\anyio\\_backends\\_asyncio.py\", line 877, in run_sync_in_worker_thread\n",
      "    return await future\n",
      "  File \"c:\\Users\\AezersX\\anaconda3\\envs\\tensorflow\\lib\\site-packages\\anyio\\_backends\\_asyncio.py\", line 807, in run\n",
      "    result = context.run(func, *args)\n",
      "  File \"c:\\Users\\AezersX\\anaconda3\\envs\\tensorflow\\lib\\site-packages\\gradio\\utils.py\", line 661, in wrapper\n",
      "    response = f(*args, **kwargs)\n",
      "  File \"C:\\Users\\AezersX\\AppData\\Local\\Temp\\ipykernel_23184\\1285878445.py\", line 4, in classify_image\n",
      "    img = img.reshape(1, 28, 28, 1)\n",
      "AttributeError: 'NoneType' object has no attribute 'reshape'\n"
     ]
    },
    {
     "name": "stdout",
     "output_type": "stream",
     "text": [
      "1/1 [==============================] - 0s 18ms/step\n"
     ]
    },
    {
     "name": "stderr",
     "output_type": "stream",
     "text": [
      "Traceback (most recent call last):\n",
      "  File \"c:\\Users\\AezersX\\anaconda3\\envs\\tensorflow\\lib\\site-packages\\gradio\\routes.py\", line 534, in predict\n",
      "    output = await route_utils.call_process_api(\n",
      "  File \"c:\\Users\\AezersX\\anaconda3\\envs\\tensorflow\\lib\\site-packages\\gradio\\route_utils.py\", line 226, in call_process_api\n",
      "    output = await app.get_blocks().process_api(\n",
      "  File \"c:\\Users\\AezersX\\anaconda3\\envs\\tensorflow\\lib\\site-packages\\gradio\\blocks.py\", line 1550, in process_api\n",
      "    result = await self.call_function(\n",
      "  File \"c:\\Users\\AezersX\\anaconda3\\envs\\tensorflow\\lib\\site-packages\\gradio\\blocks.py\", line 1185, in call_function\n",
      "    prediction = await anyio.to_thread.run_sync(\n",
      "  File \"c:\\Users\\AezersX\\anaconda3\\envs\\tensorflow\\lib\\site-packages\\anyio\\to_thread.py\", line 33, in run_sync\n",
      "    return await get_asynclib().run_sync_in_worker_thread(\n",
      "  File \"c:\\Users\\AezersX\\anaconda3\\envs\\tensorflow\\lib\\site-packages\\anyio\\_backends\\_asyncio.py\", line 877, in run_sync_in_worker_thread\n",
      "    return await future\n",
      "  File \"c:\\Users\\AezersX\\anaconda3\\envs\\tensorflow\\lib\\site-packages\\anyio\\_backends\\_asyncio.py\", line 807, in run\n",
      "    result = context.run(func, *args)\n",
      "  File \"c:\\Users\\AezersX\\anaconda3\\envs\\tensorflow\\lib\\site-packages\\gradio\\utils.py\", line 661, in wrapper\n",
      "    response = f(*args, **kwargs)\n",
      "  File \"C:\\Users\\AezersX\\AppData\\Local\\Temp\\ipykernel_23184\\1285878445.py\", line 4, in classify_image\n",
      "    img = img.reshape(1, 28, 28, 1)\n",
      "AttributeError: 'NoneType' object has no attribute 'reshape'\n"
     ]
    },
    {
     "name": "stdout",
     "output_type": "stream",
     "text": [
      "1/1 [==============================] - 0s 17ms/step\n"
     ]
    },
    {
     "name": "stderr",
     "output_type": "stream",
     "text": [
      "Traceback (most recent call last):\n",
      "  File \"c:\\Users\\AezersX\\anaconda3\\envs\\tensorflow\\lib\\site-packages\\gradio\\routes.py\", line 534, in predict\n",
      "    output = await route_utils.call_process_api(\n",
      "  File \"c:\\Users\\AezersX\\anaconda3\\envs\\tensorflow\\lib\\site-packages\\gradio\\route_utils.py\", line 226, in call_process_api\n",
      "    output = await app.get_blocks().process_api(\n",
      "  File \"c:\\Users\\AezersX\\anaconda3\\envs\\tensorflow\\lib\\site-packages\\gradio\\blocks.py\", line 1550, in process_api\n",
      "    result = await self.call_function(\n",
      "  File \"c:\\Users\\AezersX\\anaconda3\\envs\\tensorflow\\lib\\site-packages\\gradio\\blocks.py\", line 1185, in call_function\n",
      "    prediction = await anyio.to_thread.run_sync(\n",
      "  File \"c:\\Users\\AezersX\\anaconda3\\envs\\tensorflow\\lib\\site-packages\\anyio\\to_thread.py\", line 33, in run_sync\n",
      "    return await get_asynclib().run_sync_in_worker_thread(\n",
      "  File \"c:\\Users\\AezersX\\anaconda3\\envs\\tensorflow\\lib\\site-packages\\anyio\\_backends\\_asyncio.py\", line 877, in run_sync_in_worker_thread\n",
      "    return await future\n",
      "  File \"c:\\Users\\AezersX\\anaconda3\\envs\\tensorflow\\lib\\site-packages\\anyio\\_backends\\_asyncio.py\", line 807, in run\n",
      "    result = context.run(func, *args)\n",
      "  File \"c:\\Users\\AezersX\\anaconda3\\envs\\tensorflow\\lib\\site-packages\\gradio\\utils.py\", line 661, in wrapper\n",
      "    response = f(*args, **kwargs)\n",
      "  File \"C:\\Users\\AezersX\\AppData\\Local\\Temp\\ipykernel_23184\\1285878445.py\", line 4, in classify_image\n",
      "    img = img.reshape(1, 28, 28, 1)\n",
      "AttributeError: 'NoneType' object has no attribute 'reshape'\n"
     ]
    },
    {
     "name": "stdout",
     "output_type": "stream",
     "text": [
      "1/1 [==============================] - 0s 18ms/step\n"
     ]
    },
    {
     "name": "stderr",
     "output_type": "stream",
     "text": [
      "Traceback (most recent call last):\n",
      "  File \"c:\\Users\\AezersX\\anaconda3\\envs\\tensorflow\\lib\\site-packages\\gradio\\routes.py\", line 534, in predict\n",
      "    output = await route_utils.call_process_api(\n",
      "  File \"c:\\Users\\AezersX\\anaconda3\\envs\\tensorflow\\lib\\site-packages\\gradio\\route_utils.py\", line 226, in call_process_api\n",
      "    output = await app.get_blocks().process_api(\n",
      "  File \"c:\\Users\\AezersX\\anaconda3\\envs\\tensorflow\\lib\\site-packages\\gradio\\blocks.py\", line 1550, in process_api\n",
      "    result = await self.call_function(\n",
      "  File \"c:\\Users\\AezersX\\anaconda3\\envs\\tensorflow\\lib\\site-packages\\gradio\\blocks.py\", line 1185, in call_function\n",
      "    prediction = await anyio.to_thread.run_sync(\n",
      "  File \"c:\\Users\\AezersX\\anaconda3\\envs\\tensorflow\\lib\\site-packages\\anyio\\to_thread.py\", line 33, in run_sync\n",
      "    return await get_asynclib().run_sync_in_worker_thread(\n",
      "  File \"c:\\Users\\AezersX\\anaconda3\\envs\\tensorflow\\lib\\site-packages\\anyio\\_backends\\_asyncio.py\", line 877, in run_sync_in_worker_thread\n",
      "    return await future\n",
      "  File \"c:\\Users\\AezersX\\anaconda3\\envs\\tensorflow\\lib\\site-packages\\anyio\\_backends\\_asyncio.py\", line 807, in run\n",
      "    result = context.run(func, *args)\n",
      "  File \"c:\\Users\\AezersX\\anaconda3\\envs\\tensorflow\\lib\\site-packages\\gradio\\utils.py\", line 661, in wrapper\n",
      "    response = f(*args, **kwargs)\n",
      "  File \"C:\\Users\\AezersX\\AppData\\Local\\Temp\\ipykernel_23184\\1285878445.py\", line 4, in classify_image\n",
      "    img = img.reshape(1, 28, 28, 1)\n",
      "AttributeError: 'NoneType' object has no attribute 'reshape'\n"
     ]
    },
    {
     "name": "stdout",
     "output_type": "stream",
     "text": [
      "1/1 [==============================] - 0s 18ms/step\n"
     ]
    },
    {
     "name": "stderr",
     "output_type": "stream",
     "text": [
      "Traceback (most recent call last):\n",
      "  File \"c:\\Users\\AezersX\\anaconda3\\envs\\tensorflow\\lib\\site-packages\\gradio\\routes.py\", line 534, in predict\n",
      "    output = await route_utils.call_process_api(\n",
      "  File \"c:\\Users\\AezersX\\anaconda3\\envs\\tensorflow\\lib\\site-packages\\gradio\\route_utils.py\", line 226, in call_process_api\n",
      "    output = await app.get_blocks().process_api(\n",
      "  File \"c:\\Users\\AezersX\\anaconda3\\envs\\tensorflow\\lib\\site-packages\\gradio\\blocks.py\", line 1550, in process_api\n",
      "    result = await self.call_function(\n",
      "  File \"c:\\Users\\AezersX\\anaconda3\\envs\\tensorflow\\lib\\site-packages\\gradio\\blocks.py\", line 1185, in call_function\n",
      "    prediction = await anyio.to_thread.run_sync(\n",
      "  File \"c:\\Users\\AezersX\\anaconda3\\envs\\tensorflow\\lib\\site-packages\\anyio\\to_thread.py\", line 33, in run_sync\n",
      "    return await get_asynclib().run_sync_in_worker_thread(\n",
      "  File \"c:\\Users\\AezersX\\anaconda3\\envs\\tensorflow\\lib\\site-packages\\anyio\\_backends\\_asyncio.py\", line 877, in run_sync_in_worker_thread\n",
      "    return await future\n",
      "  File \"c:\\Users\\AezersX\\anaconda3\\envs\\tensorflow\\lib\\site-packages\\anyio\\_backends\\_asyncio.py\", line 807, in run\n",
      "    result = context.run(func, *args)\n",
      "  File \"c:\\Users\\AezersX\\anaconda3\\envs\\tensorflow\\lib\\site-packages\\gradio\\utils.py\", line 661, in wrapper\n",
      "    response = f(*args, **kwargs)\n",
      "  File \"C:\\Users\\AezersX\\AppData\\Local\\Temp\\ipykernel_23184\\1285878445.py\", line 4, in classify_image\n",
      "    img = img.reshape(1, 28, 28, 1)\n",
      "AttributeError: 'NoneType' object has no attribute 'reshape'\n"
     ]
    },
    {
     "name": "stdout",
     "output_type": "stream",
     "text": [
      "1/1 [==============================] - 0s 15ms/step\n"
     ]
    },
    {
     "name": "stderr",
     "output_type": "stream",
     "text": [
      "Traceback (most recent call last):\n",
      "  File \"c:\\Users\\AezersX\\anaconda3\\envs\\tensorflow\\lib\\site-packages\\gradio\\routes.py\", line 534, in predict\n",
      "    output = await route_utils.call_process_api(\n",
      "  File \"c:\\Users\\AezersX\\anaconda3\\envs\\tensorflow\\lib\\site-packages\\gradio\\route_utils.py\", line 226, in call_process_api\n",
      "    output = await app.get_blocks().process_api(\n",
      "  File \"c:\\Users\\AezersX\\anaconda3\\envs\\tensorflow\\lib\\site-packages\\gradio\\blocks.py\", line 1550, in process_api\n",
      "    result = await self.call_function(\n",
      "  File \"c:\\Users\\AezersX\\anaconda3\\envs\\tensorflow\\lib\\site-packages\\gradio\\blocks.py\", line 1185, in call_function\n",
      "    prediction = await anyio.to_thread.run_sync(\n",
      "  File \"c:\\Users\\AezersX\\anaconda3\\envs\\tensorflow\\lib\\site-packages\\anyio\\to_thread.py\", line 33, in run_sync\n",
      "    return await get_asynclib().run_sync_in_worker_thread(\n",
      "  File \"c:\\Users\\AezersX\\anaconda3\\envs\\tensorflow\\lib\\site-packages\\anyio\\_backends\\_asyncio.py\", line 877, in run_sync_in_worker_thread\n",
      "    return await future\n",
      "  File \"c:\\Users\\AezersX\\anaconda3\\envs\\tensorflow\\lib\\site-packages\\anyio\\_backends\\_asyncio.py\", line 807, in run\n",
      "    result = context.run(func, *args)\n",
      "  File \"c:\\Users\\AezersX\\anaconda3\\envs\\tensorflow\\lib\\site-packages\\gradio\\utils.py\", line 661, in wrapper\n",
      "    response = f(*args, **kwargs)\n",
      "  File \"C:\\Users\\AezersX\\AppData\\Local\\Temp\\ipykernel_23184\\1285878445.py\", line 4, in classify_image\n",
      "    img = img.reshape(1, 28, 28, 1)\n",
      "AttributeError: 'NoneType' object has no attribute 'reshape'\n"
     ]
    },
    {
     "name": "stdout",
     "output_type": "stream",
     "text": [
      "1/1 [==============================] - 0s 18ms/step\n"
     ]
    },
    {
     "name": "stderr",
     "output_type": "stream",
     "text": [
      "Traceback (most recent call last):\n",
      "  File \"c:\\Users\\AezersX\\anaconda3\\envs\\tensorflow\\lib\\site-packages\\gradio\\routes.py\", line 534, in predict\n",
      "    output = await route_utils.call_process_api(\n",
      "  File \"c:\\Users\\AezersX\\anaconda3\\envs\\tensorflow\\lib\\site-packages\\gradio\\route_utils.py\", line 226, in call_process_api\n",
      "    output = await app.get_blocks().process_api(\n",
      "  File \"c:\\Users\\AezersX\\anaconda3\\envs\\tensorflow\\lib\\site-packages\\gradio\\blocks.py\", line 1550, in process_api\n",
      "    result = await self.call_function(\n",
      "  File \"c:\\Users\\AezersX\\anaconda3\\envs\\tensorflow\\lib\\site-packages\\gradio\\blocks.py\", line 1185, in call_function\n",
      "    prediction = await anyio.to_thread.run_sync(\n",
      "  File \"c:\\Users\\AezersX\\anaconda3\\envs\\tensorflow\\lib\\site-packages\\anyio\\to_thread.py\", line 33, in run_sync\n",
      "    return await get_asynclib().run_sync_in_worker_thread(\n",
      "  File \"c:\\Users\\AezersX\\anaconda3\\envs\\tensorflow\\lib\\site-packages\\anyio\\_backends\\_asyncio.py\", line 877, in run_sync_in_worker_thread\n",
      "    return await future\n",
      "  File \"c:\\Users\\AezersX\\anaconda3\\envs\\tensorflow\\lib\\site-packages\\anyio\\_backends\\_asyncio.py\", line 807, in run\n",
      "    result = context.run(func, *args)\n",
      "  File \"c:\\Users\\AezersX\\anaconda3\\envs\\tensorflow\\lib\\site-packages\\gradio\\utils.py\", line 661, in wrapper\n",
      "    response = f(*args, **kwargs)\n",
      "  File \"C:\\Users\\AezersX\\AppData\\Local\\Temp\\ipykernel_23184\\1285878445.py\", line 4, in classify_image\n",
      "    img = img.reshape(1, 28, 28, 1)\n",
      "AttributeError: 'NoneType' object has no attribute 'reshape'\n"
     ]
    },
    {
     "name": "stdout",
     "output_type": "stream",
     "text": [
      "1/1 [==============================] - 0s 16ms/step\n",
      "1/1 [==============================] - 0s 17ms/step\n"
     ]
    },
    {
     "name": "stderr",
     "output_type": "stream",
     "text": [
      "Traceback (most recent call last):\n",
      "  File \"c:\\Users\\AezersX\\anaconda3\\envs\\tensorflow\\lib\\site-packages\\gradio\\routes.py\", line 534, in predict\n",
      "    output = await route_utils.call_process_api(\n",
      "  File \"c:\\Users\\AezersX\\anaconda3\\envs\\tensorflow\\lib\\site-packages\\gradio\\route_utils.py\", line 226, in call_process_api\n",
      "    output = await app.get_blocks().process_api(\n",
      "  File \"c:\\Users\\AezersX\\anaconda3\\envs\\tensorflow\\lib\\site-packages\\gradio\\blocks.py\", line 1550, in process_api\n",
      "    result = await self.call_function(\n",
      "  File \"c:\\Users\\AezersX\\anaconda3\\envs\\tensorflow\\lib\\site-packages\\gradio\\blocks.py\", line 1185, in call_function\n",
      "    prediction = await anyio.to_thread.run_sync(\n",
      "  File \"c:\\Users\\AezersX\\anaconda3\\envs\\tensorflow\\lib\\site-packages\\anyio\\to_thread.py\", line 33, in run_sync\n",
      "    return await get_asynclib().run_sync_in_worker_thread(\n",
      "  File \"c:\\Users\\AezersX\\anaconda3\\envs\\tensorflow\\lib\\site-packages\\anyio\\_backends\\_asyncio.py\", line 877, in run_sync_in_worker_thread\n",
      "    return await future\n",
      "  File \"c:\\Users\\AezersX\\anaconda3\\envs\\tensorflow\\lib\\site-packages\\anyio\\_backends\\_asyncio.py\", line 807, in run\n",
      "    result = context.run(func, *args)\n",
      "  File \"c:\\Users\\AezersX\\anaconda3\\envs\\tensorflow\\lib\\site-packages\\gradio\\utils.py\", line 661, in wrapper\n",
      "    response = f(*args, **kwargs)\n",
      "  File \"C:\\Users\\AezersX\\AppData\\Local\\Temp\\ipykernel_23184\\1285878445.py\", line 4, in classify_image\n",
      "    img = img.reshape(1, 28, 28, 1)\n",
      "AttributeError: 'NoneType' object has no attribute 'reshape'\n"
     ]
    },
    {
     "name": "stdout",
     "output_type": "stream",
     "text": [
      "1/1 [==============================] - 0s 17ms/step\n",
      "1/1 [==============================] - 0s 18ms/step\n"
     ]
    },
    {
     "name": "stderr",
     "output_type": "stream",
     "text": [
      "Traceback (most recent call last):\n",
      "  File \"c:\\Users\\AezersX\\anaconda3\\envs\\tensorflow\\lib\\site-packages\\gradio\\routes.py\", line 534, in predict\n",
      "    output = await route_utils.call_process_api(\n",
      "  File \"c:\\Users\\AezersX\\anaconda3\\envs\\tensorflow\\lib\\site-packages\\gradio\\route_utils.py\", line 226, in call_process_api\n",
      "    output = await app.get_blocks().process_api(\n",
      "  File \"c:\\Users\\AezersX\\anaconda3\\envs\\tensorflow\\lib\\site-packages\\gradio\\blocks.py\", line 1550, in process_api\n",
      "    result = await self.call_function(\n",
      "  File \"c:\\Users\\AezersX\\anaconda3\\envs\\tensorflow\\lib\\site-packages\\gradio\\blocks.py\", line 1185, in call_function\n",
      "    prediction = await anyio.to_thread.run_sync(\n",
      "  File \"c:\\Users\\AezersX\\anaconda3\\envs\\tensorflow\\lib\\site-packages\\anyio\\to_thread.py\", line 33, in run_sync\n",
      "    return await get_asynclib().run_sync_in_worker_thread(\n",
      "  File \"c:\\Users\\AezersX\\anaconda3\\envs\\tensorflow\\lib\\site-packages\\anyio\\_backends\\_asyncio.py\", line 877, in run_sync_in_worker_thread\n",
      "    return await future\n",
      "  File \"c:\\Users\\AezersX\\anaconda3\\envs\\tensorflow\\lib\\site-packages\\anyio\\_backends\\_asyncio.py\", line 807, in run\n",
      "    result = context.run(func, *args)\n",
      "  File \"c:\\Users\\AezersX\\anaconda3\\envs\\tensorflow\\lib\\site-packages\\gradio\\utils.py\", line 661, in wrapper\n",
      "    response = f(*args, **kwargs)\n",
      "  File \"C:\\Users\\AezersX\\AppData\\Local\\Temp\\ipykernel_23184\\1285878445.py\", line 4, in classify_image\n",
      "    img = img.reshape(1, 28, 28, 1)\n",
      "AttributeError: 'NoneType' object has no attribute 'reshape'\n"
     ]
    },
    {
     "name": "stdout",
     "output_type": "stream",
     "text": [
      "1/1 [==============================] - 0s 17ms/step\n",
      "1/1 [==============================] - 0s 16ms/step\n"
     ]
    },
    {
     "name": "stderr",
     "output_type": "stream",
     "text": [
      "Traceback (most recent call last):\n",
      "  File \"c:\\Users\\AezersX\\anaconda3\\envs\\tensorflow\\lib\\site-packages\\gradio\\routes.py\", line 534, in predict\n",
      "    output = await route_utils.call_process_api(\n",
      "  File \"c:\\Users\\AezersX\\anaconda3\\envs\\tensorflow\\lib\\site-packages\\gradio\\route_utils.py\", line 226, in call_process_api\n",
      "    output = await app.get_blocks().process_api(\n",
      "  File \"c:\\Users\\AezersX\\anaconda3\\envs\\tensorflow\\lib\\site-packages\\gradio\\blocks.py\", line 1550, in process_api\n",
      "    result = await self.call_function(\n",
      "  File \"c:\\Users\\AezersX\\anaconda3\\envs\\tensorflow\\lib\\site-packages\\gradio\\blocks.py\", line 1185, in call_function\n",
      "    prediction = await anyio.to_thread.run_sync(\n",
      "  File \"c:\\Users\\AezersX\\anaconda3\\envs\\tensorflow\\lib\\site-packages\\anyio\\to_thread.py\", line 33, in run_sync\n",
      "    return await get_asynclib().run_sync_in_worker_thread(\n",
      "  File \"c:\\Users\\AezersX\\anaconda3\\envs\\tensorflow\\lib\\site-packages\\anyio\\_backends\\_asyncio.py\", line 877, in run_sync_in_worker_thread\n",
      "    return await future\n",
      "  File \"c:\\Users\\AezersX\\anaconda3\\envs\\tensorflow\\lib\\site-packages\\anyio\\_backends\\_asyncio.py\", line 807, in run\n",
      "    result = context.run(func, *args)\n",
      "  File \"c:\\Users\\AezersX\\anaconda3\\envs\\tensorflow\\lib\\site-packages\\gradio\\utils.py\", line 661, in wrapper\n",
      "    response = f(*args, **kwargs)\n",
      "  File \"C:\\Users\\AezersX\\AppData\\Local\\Temp\\ipykernel_23184\\1285878445.py\", line 4, in classify_image\n",
      "    img = img.reshape(1, 28, 28, 1)\n",
      "AttributeError: 'NoneType' object has no attribute 'reshape'\n"
     ]
    },
    {
     "name": "stdout",
     "output_type": "stream",
     "text": [
      "1/1 [==============================] - 0s 17ms/step\n"
     ]
    },
    {
     "name": "stderr",
     "output_type": "stream",
     "text": [
      "Traceback (most recent call last):\n",
      "  File \"c:\\Users\\AezersX\\anaconda3\\envs\\tensorflow\\lib\\site-packages\\gradio\\routes.py\", line 534, in predict\n",
      "    output = await route_utils.call_process_api(\n",
      "  File \"c:\\Users\\AezersX\\anaconda3\\envs\\tensorflow\\lib\\site-packages\\gradio\\route_utils.py\", line 226, in call_process_api\n",
      "    output = await app.get_blocks().process_api(\n",
      "  File \"c:\\Users\\AezersX\\anaconda3\\envs\\tensorflow\\lib\\site-packages\\gradio\\blocks.py\", line 1550, in process_api\n",
      "    result = await self.call_function(\n",
      "  File \"c:\\Users\\AezersX\\anaconda3\\envs\\tensorflow\\lib\\site-packages\\gradio\\blocks.py\", line 1185, in call_function\n",
      "    prediction = await anyio.to_thread.run_sync(\n",
      "  File \"c:\\Users\\AezersX\\anaconda3\\envs\\tensorflow\\lib\\site-packages\\anyio\\to_thread.py\", line 33, in run_sync\n",
      "    return await get_asynclib().run_sync_in_worker_thread(\n",
      "  File \"c:\\Users\\AezersX\\anaconda3\\envs\\tensorflow\\lib\\site-packages\\anyio\\_backends\\_asyncio.py\", line 877, in run_sync_in_worker_thread\n",
      "    return await future\n",
      "  File \"c:\\Users\\AezersX\\anaconda3\\envs\\tensorflow\\lib\\site-packages\\anyio\\_backends\\_asyncio.py\", line 807, in run\n",
      "    result = context.run(func, *args)\n",
      "  File \"c:\\Users\\AezersX\\anaconda3\\envs\\tensorflow\\lib\\site-packages\\gradio\\utils.py\", line 661, in wrapper\n",
      "    response = f(*args, **kwargs)\n",
      "  File \"C:\\Users\\AezersX\\AppData\\Local\\Temp\\ipykernel_23184\\1285878445.py\", line 4, in classify_image\n",
      "    img = img.reshape(1, 28, 28, 1)\n",
      "AttributeError: 'NoneType' object has no attribute 'reshape'\n"
     ]
    },
    {
     "name": "stdout",
     "output_type": "stream",
     "text": [
      "1/1 [==============================] - 0s 15ms/step\n"
     ]
    },
    {
     "name": "stderr",
     "output_type": "stream",
     "text": [
      "Traceback (most recent call last):\n",
      "  File \"c:\\Users\\AezersX\\anaconda3\\envs\\tensorflow\\lib\\site-packages\\gradio\\routes.py\", line 534, in predict\n",
      "    output = await route_utils.call_process_api(\n",
      "  File \"c:\\Users\\AezersX\\anaconda3\\envs\\tensorflow\\lib\\site-packages\\gradio\\route_utils.py\", line 226, in call_process_api\n",
      "    output = await app.get_blocks().process_api(\n",
      "  File \"c:\\Users\\AezersX\\anaconda3\\envs\\tensorflow\\lib\\site-packages\\gradio\\blocks.py\", line 1550, in process_api\n",
      "    result = await self.call_function(\n",
      "  File \"c:\\Users\\AezersX\\anaconda3\\envs\\tensorflow\\lib\\site-packages\\gradio\\blocks.py\", line 1185, in call_function\n",
      "    prediction = await anyio.to_thread.run_sync(\n",
      "  File \"c:\\Users\\AezersX\\anaconda3\\envs\\tensorflow\\lib\\site-packages\\anyio\\to_thread.py\", line 33, in run_sync\n",
      "    return await get_asynclib().run_sync_in_worker_thread(\n",
      "  File \"c:\\Users\\AezersX\\anaconda3\\envs\\tensorflow\\lib\\site-packages\\anyio\\_backends\\_asyncio.py\", line 877, in run_sync_in_worker_thread\n",
      "    return await future\n",
      "  File \"c:\\Users\\AezersX\\anaconda3\\envs\\tensorflow\\lib\\site-packages\\anyio\\_backends\\_asyncio.py\", line 807, in run\n",
      "    result = context.run(func, *args)\n",
      "  File \"c:\\Users\\AezersX\\anaconda3\\envs\\tensorflow\\lib\\site-packages\\gradio\\utils.py\", line 661, in wrapper\n",
      "    response = f(*args, **kwargs)\n",
      "  File \"C:\\Users\\AezersX\\AppData\\Local\\Temp\\ipykernel_23184\\1285878445.py\", line 4, in classify_image\n",
      "    img = img.reshape(1, 28, 28, 1)\n",
      "AttributeError: 'NoneType' object has no attribute 'reshape'\n"
     ]
    },
    {
     "name": "stdout",
     "output_type": "stream",
     "text": [
      "1/1 [==============================] - 0s 15ms/step\n"
     ]
    },
    {
     "name": "stderr",
     "output_type": "stream",
     "text": [
      "Traceback (most recent call last):\n",
      "  File \"c:\\Users\\AezersX\\anaconda3\\envs\\tensorflow\\lib\\site-packages\\gradio\\routes.py\", line 534, in predict\n",
      "    output = await route_utils.call_process_api(\n",
      "  File \"c:\\Users\\AezersX\\anaconda3\\envs\\tensorflow\\lib\\site-packages\\gradio\\route_utils.py\", line 226, in call_process_api\n",
      "    output = await app.get_blocks().process_api(\n",
      "  File \"c:\\Users\\AezersX\\anaconda3\\envs\\tensorflow\\lib\\site-packages\\gradio\\blocks.py\", line 1550, in process_api\n",
      "    result = await self.call_function(\n",
      "  File \"c:\\Users\\AezersX\\anaconda3\\envs\\tensorflow\\lib\\site-packages\\gradio\\blocks.py\", line 1185, in call_function\n",
      "    prediction = await anyio.to_thread.run_sync(\n",
      "  File \"c:\\Users\\AezersX\\anaconda3\\envs\\tensorflow\\lib\\site-packages\\anyio\\to_thread.py\", line 33, in run_sync\n",
      "    return await get_asynclib().run_sync_in_worker_thread(\n",
      "  File \"c:\\Users\\AezersX\\anaconda3\\envs\\tensorflow\\lib\\site-packages\\anyio\\_backends\\_asyncio.py\", line 877, in run_sync_in_worker_thread\n",
      "    return await future\n",
      "  File \"c:\\Users\\AezersX\\anaconda3\\envs\\tensorflow\\lib\\site-packages\\anyio\\_backends\\_asyncio.py\", line 807, in run\n",
      "    result = context.run(func, *args)\n",
      "  File \"c:\\Users\\AezersX\\anaconda3\\envs\\tensorflow\\lib\\site-packages\\gradio\\utils.py\", line 661, in wrapper\n",
      "    response = f(*args, **kwargs)\n",
      "  File \"C:\\Users\\AezersX\\AppData\\Local\\Temp\\ipykernel_23184\\1285878445.py\", line 4, in classify_image\n",
      "    img = img.reshape(1, 28, 28, 1)\n",
      "AttributeError: 'NoneType' object has no attribute 'reshape'\n"
     ]
    },
    {
     "name": "stdout",
     "output_type": "stream",
     "text": [
      "1/1 [==============================] - 0s 17ms/step\n"
     ]
    },
    {
     "name": "stderr",
     "output_type": "stream",
     "text": [
      "Traceback (most recent call last):\n",
      "  File \"c:\\Users\\AezersX\\anaconda3\\envs\\tensorflow\\lib\\site-packages\\gradio\\routes.py\", line 534, in predict\n",
      "    output = await route_utils.call_process_api(\n",
      "  File \"c:\\Users\\AezersX\\anaconda3\\envs\\tensorflow\\lib\\site-packages\\gradio\\route_utils.py\", line 226, in call_process_api\n",
      "    output = await app.get_blocks().process_api(\n",
      "  File \"c:\\Users\\AezersX\\anaconda3\\envs\\tensorflow\\lib\\site-packages\\gradio\\blocks.py\", line 1550, in process_api\n",
      "    result = await self.call_function(\n",
      "  File \"c:\\Users\\AezersX\\anaconda3\\envs\\tensorflow\\lib\\site-packages\\gradio\\blocks.py\", line 1185, in call_function\n",
      "    prediction = await anyio.to_thread.run_sync(\n",
      "  File \"c:\\Users\\AezersX\\anaconda3\\envs\\tensorflow\\lib\\site-packages\\anyio\\to_thread.py\", line 33, in run_sync\n",
      "    return await get_asynclib().run_sync_in_worker_thread(\n",
      "  File \"c:\\Users\\AezersX\\anaconda3\\envs\\tensorflow\\lib\\site-packages\\anyio\\_backends\\_asyncio.py\", line 877, in run_sync_in_worker_thread\n",
      "    return await future\n",
      "  File \"c:\\Users\\AezersX\\anaconda3\\envs\\tensorflow\\lib\\site-packages\\anyio\\_backends\\_asyncio.py\", line 807, in run\n",
      "    result = context.run(func, *args)\n",
      "  File \"c:\\Users\\AezersX\\anaconda3\\envs\\tensorflow\\lib\\site-packages\\gradio\\utils.py\", line 661, in wrapper\n",
      "    response = f(*args, **kwargs)\n",
      "  File \"C:\\Users\\AezersX\\AppData\\Local\\Temp\\ipykernel_23184\\1285878445.py\", line 4, in classify_image\n",
      "    img = img.reshape(1, 28, 28, 1)\n",
      "AttributeError: 'NoneType' object has no attribute 'reshape'\n"
     ]
    },
    {
     "name": "stdout",
     "output_type": "stream",
     "text": [
      "1/1 [==============================] - 0s 17ms/step\n"
     ]
    },
    {
     "name": "stderr",
     "output_type": "stream",
     "text": [
      "Traceback (most recent call last):\n",
      "  File \"c:\\Users\\AezersX\\anaconda3\\envs\\tensorflow\\lib\\site-packages\\gradio\\routes.py\", line 534, in predict\n",
      "    output = await route_utils.call_process_api(\n",
      "  File \"c:\\Users\\AezersX\\anaconda3\\envs\\tensorflow\\lib\\site-packages\\gradio\\route_utils.py\", line 226, in call_process_api\n",
      "    output = await app.get_blocks().process_api(\n",
      "  File \"c:\\Users\\AezersX\\anaconda3\\envs\\tensorflow\\lib\\site-packages\\gradio\\blocks.py\", line 1550, in process_api\n",
      "    result = await self.call_function(\n",
      "  File \"c:\\Users\\AezersX\\anaconda3\\envs\\tensorflow\\lib\\site-packages\\gradio\\blocks.py\", line 1185, in call_function\n",
      "    prediction = await anyio.to_thread.run_sync(\n",
      "  File \"c:\\Users\\AezersX\\anaconda3\\envs\\tensorflow\\lib\\site-packages\\anyio\\to_thread.py\", line 33, in run_sync\n",
      "    return await get_asynclib().run_sync_in_worker_thread(\n",
      "  File \"c:\\Users\\AezersX\\anaconda3\\envs\\tensorflow\\lib\\site-packages\\anyio\\_backends\\_asyncio.py\", line 877, in run_sync_in_worker_thread\n",
      "    return await future\n",
      "  File \"c:\\Users\\AezersX\\anaconda3\\envs\\tensorflow\\lib\\site-packages\\anyio\\_backends\\_asyncio.py\", line 807, in run\n",
      "    result = context.run(func, *args)\n",
      "  File \"c:\\Users\\AezersX\\anaconda3\\envs\\tensorflow\\lib\\site-packages\\gradio\\utils.py\", line 661, in wrapper\n",
      "    response = f(*args, **kwargs)\n",
      "  File \"C:\\Users\\AezersX\\AppData\\Local\\Temp\\ipykernel_23184\\1285878445.py\", line 4, in classify_image\n",
      "    img = img.reshape(1, 28, 28, 1)\n",
      "AttributeError: 'NoneType' object has no attribute 'reshape'\n"
     ]
    },
    {
     "name": "stdout",
     "output_type": "stream",
     "text": [
      "1/1 [==============================] - 0s 15ms/step\n",
      "1/1 [==============================] - 0s 21ms/step\n"
     ]
    },
    {
     "name": "stderr",
     "output_type": "stream",
     "text": [
      "Traceback (most recent call last):\n",
      "  File \"c:\\Users\\AezersX\\anaconda3\\envs\\tensorflow\\lib\\site-packages\\gradio\\routes.py\", line 534, in predict\n",
      "    output = await route_utils.call_process_api(\n",
      "  File \"c:\\Users\\AezersX\\anaconda3\\envs\\tensorflow\\lib\\site-packages\\gradio\\route_utils.py\", line 226, in call_process_api\n",
      "    output = await app.get_blocks().process_api(\n",
      "  File \"c:\\Users\\AezersX\\anaconda3\\envs\\tensorflow\\lib\\site-packages\\gradio\\blocks.py\", line 1550, in process_api\n",
      "    result = await self.call_function(\n",
      "  File \"c:\\Users\\AezersX\\anaconda3\\envs\\tensorflow\\lib\\site-packages\\gradio\\blocks.py\", line 1185, in call_function\n",
      "    prediction = await anyio.to_thread.run_sync(\n",
      "  File \"c:\\Users\\AezersX\\anaconda3\\envs\\tensorflow\\lib\\site-packages\\anyio\\to_thread.py\", line 33, in run_sync\n",
      "    return await get_asynclib().run_sync_in_worker_thread(\n",
      "  File \"c:\\Users\\AezersX\\anaconda3\\envs\\tensorflow\\lib\\site-packages\\anyio\\_backends\\_asyncio.py\", line 877, in run_sync_in_worker_thread\n",
      "    return await future\n",
      "  File \"c:\\Users\\AezersX\\anaconda3\\envs\\tensorflow\\lib\\site-packages\\anyio\\_backends\\_asyncio.py\", line 807, in run\n",
      "    result = context.run(func, *args)\n",
      "  File \"c:\\Users\\AezersX\\anaconda3\\envs\\tensorflow\\lib\\site-packages\\gradio\\utils.py\", line 661, in wrapper\n",
      "    response = f(*args, **kwargs)\n",
      "  File \"C:\\Users\\AezersX\\AppData\\Local\\Temp\\ipykernel_23184\\1285878445.py\", line 4, in classify_image\n",
      "    img = img.reshape(1, 28, 28, 1)\n",
      "AttributeError: 'NoneType' object has no attribute 'reshape'\n"
     ]
    },
    {
     "name": "stdout",
     "output_type": "stream",
     "text": [
      "1/1 [==============================] - 0s 16ms/step\n",
      "1/1 [==============================] - 0s 18ms/step\n"
     ]
    },
    {
     "name": "stderr",
     "output_type": "stream",
     "text": [
      "Traceback (most recent call last):\n",
      "  File \"c:\\Users\\AezersX\\anaconda3\\envs\\tensorflow\\lib\\site-packages\\gradio\\routes.py\", line 534, in predict\n",
      "    output = await route_utils.call_process_api(\n",
      "  File \"c:\\Users\\AezersX\\anaconda3\\envs\\tensorflow\\lib\\site-packages\\gradio\\route_utils.py\", line 226, in call_process_api\n",
      "    output = await app.get_blocks().process_api(\n",
      "  File \"c:\\Users\\AezersX\\anaconda3\\envs\\tensorflow\\lib\\site-packages\\gradio\\blocks.py\", line 1550, in process_api\n",
      "    result = await self.call_function(\n",
      "  File \"c:\\Users\\AezersX\\anaconda3\\envs\\tensorflow\\lib\\site-packages\\gradio\\blocks.py\", line 1185, in call_function\n",
      "    prediction = await anyio.to_thread.run_sync(\n",
      "  File \"c:\\Users\\AezersX\\anaconda3\\envs\\tensorflow\\lib\\site-packages\\anyio\\to_thread.py\", line 33, in run_sync\n",
      "    return await get_asynclib().run_sync_in_worker_thread(\n",
      "  File \"c:\\Users\\AezersX\\anaconda3\\envs\\tensorflow\\lib\\site-packages\\anyio\\_backends\\_asyncio.py\", line 877, in run_sync_in_worker_thread\n",
      "    return await future\n",
      "  File \"c:\\Users\\AezersX\\anaconda3\\envs\\tensorflow\\lib\\site-packages\\anyio\\_backends\\_asyncio.py\", line 807, in run\n",
      "    result = context.run(func, *args)\n",
      "  File \"c:\\Users\\AezersX\\anaconda3\\envs\\tensorflow\\lib\\site-packages\\gradio\\utils.py\", line 661, in wrapper\n",
      "    response = f(*args, **kwargs)\n",
      "  File \"C:\\Users\\AezersX\\AppData\\Local\\Temp\\ipykernel_23184\\1285878445.py\", line 4, in classify_image\n",
      "    img = img.reshape(1, 28, 28, 1)\n",
      "AttributeError: 'NoneType' object has no attribute 'reshape'\n"
     ]
    },
    {
     "name": "stdout",
     "output_type": "stream",
     "text": [
      "1/1 [==============================] - 0s 16ms/step\n"
     ]
    },
    {
     "name": "stderr",
     "output_type": "stream",
     "text": [
      "Traceback (most recent call last):\n",
      "  File \"c:\\Users\\AezersX\\anaconda3\\envs\\tensorflow\\lib\\site-packages\\gradio\\routes.py\", line 534, in predict\n",
      "    output = await route_utils.call_process_api(\n",
      "  File \"c:\\Users\\AezersX\\anaconda3\\envs\\tensorflow\\lib\\site-packages\\gradio\\route_utils.py\", line 226, in call_process_api\n",
      "    output = await app.get_blocks().process_api(\n",
      "  File \"c:\\Users\\AezersX\\anaconda3\\envs\\tensorflow\\lib\\site-packages\\gradio\\blocks.py\", line 1550, in process_api\n",
      "    result = await self.call_function(\n",
      "  File \"c:\\Users\\AezersX\\anaconda3\\envs\\tensorflow\\lib\\site-packages\\gradio\\blocks.py\", line 1185, in call_function\n",
      "    prediction = await anyio.to_thread.run_sync(\n",
      "  File \"c:\\Users\\AezersX\\anaconda3\\envs\\tensorflow\\lib\\site-packages\\anyio\\to_thread.py\", line 33, in run_sync\n",
      "    return await get_asynclib().run_sync_in_worker_thread(\n",
      "  File \"c:\\Users\\AezersX\\anaconda3\\envs\\tensorflow\\lib\\site-packages\\anyio\\_backends\\_asyncio.py\", line 877, in run_sync_in_worker_thread\n",
      "    return await future\n",
      "  File \"c:\\Users\\AezersX\\anaconda3\\envs\\tensorflow\\lib\\site-packages\\anyio\\_backends\\_asyncio.py\", line 807, in run\n",
      "    result = context.run(func, *args)\n",
      "  File \"c:\\Users\\AezersX\\anaconda3\\envs\\tensorflow\\lib\\site-packages\\gradio\\utils.py\", line 661, in wrapper\n",
      "    response = f(*args, **kwargs)\n",
      "  File \"C:\\Users\\AezersX\\AppData\\Local\\Temp\\ipykernel_23184\\1285878445.py\", line 4, in classify_image\n",
      "    img = img.reshape(1, 28, 28, 1)\n",
      "AttributeError: 'NoneType' object has no attribute 'reshape'\n"
     ]
    },
    {
     "name": "stdout",
     "output_type": "stream",
     "text": [
      "1/1 [==============================] - 0s 16ms/step\n"
     ]
    },
    {
     "name": "stderr",
     "output_type": "stream",
     "text": [
      "Traceback (most recent call last):\n",
      "  File \"c:\\Users\\AezersX\\anaconda3\\envs\\tensorflow\\lib\\site-packages\\gradio\\routes.py\", line 534, in predict\n",
      "    output = await route_utils.call_process_api(\n",
      "  File \"c:\\Users\\AezersX\\anaconda3\\envs\\tensorflow\\lib\\site-packages\\gradio\\route_utils.py\", line 226, in call_process_api\n",
      "    output = await app.get_blocks().process_api(\n",
      "  File \"c:\\Users\\AezersX\\anaconda3\\envs\\tensorflow\\lib\\site-packages\\gradio\\blocks.py\", line 1550, in process_api\n",
      "    result = await self.call_function(\n",
      "  File \"c:\\Users\\AezersX\\anaconda3\\envs\\tensorflow\\lib\\site-packages\\gradio\\blocks.py\", line 1185, in call_function\n",
      "    prediction = await anyio.to_thread.run_sync(\n",
      "  File \"c:\\Users\\AezersX\\anaconda3\\envs\\tensorflow\\lib\\site-packages\\anyio\\to_thread.py\", line 33, in run_sync\n",
      "    return await get_asynclib().run_sync_in_worker_thread(\n",
      "  File \"c:\\Users\\AezersX\\anaconda3\\envs\\tensorflow\\lib\\site-packages\\anyio\\_backends\\_asyncio.py\", line 877, in run_sync_in_worker_thread\n",
      "    return await future\n",
      "  File \"c:\\Users\\AezersX\\anaconda3\\envs\\tensorflow\\lib\\site-packages\\anyio\\_backends\\_asyncio.py\", line 807, in run\n",
      "    result = context.run(func, *args)\n",
      "  File \"c:\\Users\\AezersX\\anaconda3\\envs\\tensorflow\\lib\\site-packages\\gradio\\utils.py\", line 661, in wrapper\n",
      "    response = f(*args, **kwargs)\n",
      "  File \"C:\\Users\\AezersX\\AppData\\Local\\Temp\\ipykernel_23184\\1285878445.py\", line 4, in classify_image\n",
      "    img = img.reshape(1, 28, 28, 1)\n",
      "AttributeError: 'NoneType' object has no attribute 'reshape'\n"
     ]
    },
    {
     "name": "stdout",
     "output_type": "stream",
     "text": [
      "1/1 [==============================] - 0s 16ms/step\n"
     ]
    },
    {
     "name": "stderr",
     "output_type": "stream",
     "text": [
      "Traceback (most recent call last):\n",
      "  File \"c:\\Users\\AezersX\\anaconda3\\envs\\tensorflow\\lib\\site-packages\\gradio\\routes.py\", line 534, in predict\n",
      "    output = await route_utils.call_process_api(\n",
      "  File \"c:\\Users\\AezersX\\anaconda3\\envs\\tensorflow\\lib\\site-packages\\gradio\\route_utils.py\", line 226, in call_process_api\n",
      "    output = await app.get_blocks().process_api(\n",
      "  File \"c:\\Users\\AezersX\\anaconda3\\envs\\tensorflow\\lib\\site-packages\\gradio\\blocks.py\", line 1550, in process_api\n",
      "    result = await self.call_function(\n",
      "  File \"c:\\Users\\AezersX\\anaconda3\\envs\\tensorflow\\lib\\site-packages\\gradio\\blocks.py\", line 1185, in call_function\n",
      "    prediction = await anyio.to_thread.run_sync(\n",
      "  File \"c:\\Users\\AezersX\\anaconda3\\envs\\tensorflow\\lib\\site-packages\\anyio\\to_thread.py\", line 33, in run_sync\n",
      "    return await get_asynclib().run_sync_in_worker_thread(\n",
      "  File \"c:\\Users\\AezersX\\anaconda3\\envs\\tensorflow\\lib\\site-packages\\anyio\\_backends\\_asyncio.py\", line 877, in run_sync_in_worker_thread\n",
      "    return await future\n",
      "  File \"c:\\Users\\AezersX\\anaconda3\\envs\\tensorflow\\lib\\site-packages\\anyio\\_backends\\_asyncio.py\", line 807, in run\n",
      "    result = context.run(func, *args)\n",
      "  File \"c:\\Users\\AezersX\\anaconda3\\envs\\tensorflow\\lib\\site-packages\\gradio\\utils.py\", line 661, in wrapper\n",
      "    response = f(*args, **kwargs)\n",
      "  File \"C:\\Users\\AezersX\\AppData\\Local\\Temp\\ipykernel_23184\\1285878445.py\", line 4, in classify_image\n",
      "    img = img.reshape(1, 28, 28, 1)\n",
      "AttributeError: 'NoneType' object has no attribute 'reshape'\n"
     ]
    },
    {
     "name": "stdout",
     "output_type": "stream",
     "text": [
      "1/1 [==============================] - 0s 16ms/step\n"
     ]
    },
    {
     "name": "stderr",
     "output_type": "stream",
     "text": [
      "Traceback (most recent call last):\n",
      "  File \"c:\\Users\\AezersX\\anaconda3\\envs\\tensorflow\\lib\\site-packages\\gradio\\routes.py\", line 534, in predict\n",
      "    output = await route_utils.call_process_api(\n",
      "  File \"c:\\Users\\AezersX\\anaconda3\\envs\\tensorflow\\lib\\site-packages\\gradio\\route_utils.py\", line 226, in call_process_api\n",
      "    output = await app.get_blocks().process_api(\n",
      "  File \"c:\\Users\\AezersX\\anaconda3\\envs\\tensorflow\\lib\\site-packages\\gradio\\blocks.py\", line 1550, in process_api\n",
      "    result = await self.call_function(\n",
      "  File \"c:\\Users\\AezersX\\anaconda3\\envs\\tensorflow\\lib\\site-packages\\gradio\\blocks.py\", line 1185, in call_function\n",
      "    prediction = await anyio.to_thread.run_sync(\n",
      "  File \"c:\\Users\\AezersX\\anaconda3\\envs\\tensorflow\\lib\\site-packages\\anyio\\to_thread.py\", line 33, in run_sync\n",
      "    return await get_asynclib().run_sync_in_worker_thread(\n",
      "  File \"c:\\Users\\AezersX\\anaconda3\\envs\\tensorflow\\lib\\site-packages\\anyio\\_backends\\_asyncio.py\", line 877, in run_sync_in_worker_thread\n",
      "    return await future\n",
      "  File \"c:\\Users\\AezersX\\anaconda3\\envs\\tensorflow\\lib\\site-packages\\anyio\\_backends\\_asyncio.py\", line 807, in run\n",
      "    result = context.run(func, *args)\n",
      "  File \"c:\\Users\\AezersX\\anaconda3\\envs\\tensorflow\\lib\\site-packages\\gradio\\utils.py\", line 661, in wrapper\n",
      "    response = f(*args, **kwargs)\n",
      "  File \"C:\\Users\\AezersX\\AppData\\Local\\Temp\\ipykernel_23184\\1285878445.py\", line 4, in classify_image\n",
      "    img = img.reshape(1, 28, 28, 1)\n",
      "AttributeError: 'NoneType' object has no attribute 'reshape'\n"
     ]
    }
   ],
   "source": [
    "# build gradio app that draw and predict the number\n",
    "import gradio as gr\n",
    "def classify_image(img):\n",
    "    img = img.reshape(1, 28, 28, 1)\n",
    "    img = tf.keras.utils.normalize(img, axis=1)\n",
    "    prediction = model.predict(img).tolist()[0]\n",
    "    return {str(i): prediction[i] for i in range(10)}\n",
    "sketchpad = \"sketchpad\"\n",
    "label = gr.outputs.Label(num_top_classes=3)\n",
    "gr.Interface(fn=classify_image, inputs=sketchpad, outputs=label, live=True).launch()\n"
   ]
  },
  {
   "cell_type": "code",
   "execution_count": null,
   "metadata": {},
   "outputs": [],
   "source": []
  }
 ],
 "metadata": {
  "kernelspec": {
   "display_name": "tensorflow",
   "language": "python",
   "name": "python3"
  },
  "language_info": {
   "codemirror_mode": {
    "name": "ipython",
    "version": 3
   },
   "file_extension": ".py",
   "mimetype": "text/x-python",
   "name": "python",
   "nbconvert_exporter": "python",
   "pygments_lexer": "ipython3",
   "version": "3.9.18"
  }
 },
 "nbformat": 4,
 "nbformat_minor": 2
}
